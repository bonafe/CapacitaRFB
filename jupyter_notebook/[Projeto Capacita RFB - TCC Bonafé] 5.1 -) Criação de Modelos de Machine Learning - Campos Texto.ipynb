{
 "cells": [
  {
   "cell_type": "code",
   "execution_count": null,
   "id": "6ffce0c7",
   "metadata": {},
   "outputs": [],
   "source": [
    "import os\n",
    "from os import listdir\n",
    "from os.path import isfile, join\n",
    "from datetime import datetime\n",
    "import re\n",
    "import json\n",
    "import pickle"
   ]
  },
  {
   "cell_type": "code",
   "execution_count": null,
   "id": "4588bbdc",
   "metadata": {},
   "outputs": [],
   "source": [
    "from IPython.display import display, Markdown"
   ]
  },
  {
   "cell_type": "code",
   "execution_count": null,
   "id": "00ed7167",
   "metadata": {},
   "outputs": [],
   "source": [
    "import numpy as np\n",
    "import pandas as pd\n",
    "import matplotlib.pyplot as plt"
   ]
  },
  {
   "cell_type": "code",
   "execution_count": null,
   "id": "e2161e6c",
   "metadata": {},
   "outputs": [],
   "source": [
    "from sklearn.cluster import KMeans\n",
    "from kneed import KneeLocator"
   ]
  },
  {
   "cell_type": "code",
   "execution_count": null,
   "id": "9b13bc3c",
   "metadata": {},
   "outputs": [],
   "source": [
    "import warnings\n",
    "warnings.filterwarnings('ignore')\n",
    "\n",
    "import logging\n",
    "logger = logging.getLogger()\n",
    "logger.setLevel(logging.CRITICAL)"
   ]
  },
  {
   "cell_type": "code",
   "execution_count": null,
   "id": "b4ef0888",
   "metadata": {},
   "outputs": [],
   "source": [
    "import httpimport\n",
    "\n",
    "with httpimport.remote_repo(\n",
    "    ['visualizador_dataframes', 'ferramentas_linguagem_natural'],\n",
    "    'https://bonafe.github.io/CienciaDadosPython/src/componentes/'):\n",
    "    \n",
    "    from ferramentas_linguagem_natural import FerramentasLinguagemNatural\n",
    "    \n",
    "    from visualizador_dataframes import VisualizadorDataFrames    "
   ]
  },
  {
   "cell_type": "code",
   "execution_count": null,
   "id": "29a3e4b2",
   "metadata": {},
   "outputs": [],
   "source": [
    "def prefixoData(data):\n",
    "    return data.strftime(\"%Y_%m_%d\")"
   ]
  },
  {
   "cell_type": "code",
   "execution_count": null,
   "id": "0e6e6cca",
   "metadata": {},
   "outputs": [],
   "source": [
    "df_instrutores = pd.read_csv(\"z:/bases_capacita/projeto_capacita/tcc_bonafe/2022_06_30-instrutores_acoes-capacitacao_conteudo-programatico_anonimizado.csv\", index_col=None, header=0)\n",
    "df_instrutores.name = \"instrutores\""
   ]
  },
  {
   "cell_type": "code",
   "execution_count": null,
   "id": "9cd9335c",
   "metadata": {},
   "outputs": [],
   "source": [
    "df_instrutores.dropna(inplace=True)"
   ]
  },
  {
   "cell_type": "code",
   "execution_count": null,
   "id": "bedd6eb8",
   "metadata": {},
   "outputs": [],
   "source": [
    "df_instrutores.info()"
   ]
  },
  {
   "cell_type": "code",
   "execution_count": null,
   "id": "c5704503",
   "metadata": {},
   "outputs": [],
   "source": [
    "stopwords_conteudo_capacita = [\n",
    "    \"curso\",\n",
    "    \"apresentação\", \n",
    "    \"turma\", \n",
    "    \"capacitação\", \n",
    "    \"aula\", \n",
    "    \"utilização\", \n",
    "    \"prático\", \n",
    "    \"estudo\", \n",
    "    \"treinamento\", \n",
    "    \"encontro\", \n",
    "    \"seminário\",\n",
    "    \"especialização\",\n",
    "    \"repasse\",\n",
    "    \"funcionalidade\",\n",
    "    \"sistema\",\n",
    "    \"atuam\",\n",
    "    \"atuar\",\n",
    "    \"servidores\",\n",
    "    \"utilização\",\n",
    "    \"análise\",\n",
    "    \"sobre\",\n",
    "    \"objetivo\",\n",
    "    \"área\",\n",
    "    \"equipe\",\n",
    "    \"visando\",\n",
    "    \"habilitar\",\n",
    "    \"conhecimento\",\n",
    "    \"processo\",\n",
    "    \"trabalho\",\n",
    "    \"receita\",\n",
    "    \"federal\",\n",
    "    \"participante\",\n",
    "    \"apresentar\",\n",
    "    \"ações\",\n",
    "    \"ação\",\n",
    "    \"envolvendo\",\n",
    "    \"desde\",\n",
    "    \"rfb\",\n",
    "    \"nbsp\",\n",
    "    \"conhecer\",\n",
    "    \"capacitar\",\n",
    "    \"atualizar\",\n",
    "    \"reciclar\",\n",
    "    \"região\"\n",
    "]"
   ]
  },
  {
   "cell_type": "markdown",
   "id": "382535d7",
   "metadata": {},
   "source": [
    "# Opções para o método do Cotovelo"
   ]
  },
  {
   "cell_type": "code",
   "execution_count": null,
   "id": "307d7f51",
   "metadata": {},
   "outputs": [],
   "source": [
    "opcoes_metodo_cotovelo = {\n",
    "        'stopwords': stopwords_conteudo_capacita,\n",
    "        'KMeans':{\n",
    "            'quantidade_clusters':20\n",
    "        },\n",
    "        'TfidfVectorizer':{\n",
    "            'ngram_range': (1,1)\n",
    "        }\n",
    "    }  "
   ]
  },
  {
   "cell_type": "markdown",
   "id": "f7676046",
   "metadata": {},
   "source": [
    "# Conteúdo Programático"
   ]
  },
  {
   "cell_type": "code",
   "execution_count": null,
   "id": "49a2b2a9",
   "metadata": {},
   "outputs": [],
   "source": [
    "FerramentasLinguagemNatural.metodoDoCotovelo (df_instrutores, \"conteudo_programatico\", opcoes_metodo_cotovelo)"
   ]
  },
  {
   "cell_type": "code",
   "execution_count": null,
   "id": "0656dd3f",
   "metadata": {},
   "outputs": [],
   "source": [
    "opcoes_cluster_conteudo_programatico = {\n",
    "        'stopwords': stopwords_conteudo_capacita,\n",
    "        'KMeans':{\n",
    "            'quantidade_clusters':13\n",
    "        },\n",
    "        'TfidfVectorizer':{\n",
    "            'ngram_range': (1,1)\n",
    "        }\n",
    "    }  "
   ]
  },
  {
   "cell_type": "code",
   "execution_count": null,
   "id": "0098a7e8",
   "metadata": {},
   "outputs": [],
   "source": [
    "coluna_texto_conteudo_programatico = 'conteudo_programatico'\n",
    "\n",
    "[\n",
    "    df_cluster_conteudo_programatico, \n",
    "    coluna_cluster_conteudo_programatico, \n",
    "    modelo_conteudo_programatico, \n",
    "    fittedVectorizer_conteudo_programatico\n",
    "    \n",
    "] = FerramentasLinguagemNatural.gerarCluster (\n",
    "    df_instrutores,     \n",
    "    coluna_texto_conteudo_programatico, \n",
    "    opcoes_cluster_conteudo_programatico)"
   ]
  },
  {
   "cell_type": "markdown",
   "id": "2110604c",
   "metadata": {},
   "source": [
    "# Título Ação"
   ]
  },
  {
   "cell_type": "code",
   "execution_count": null,
   "id": "9a476eb1",
   "metadata": {},
   "outputs": [],
   "source": [
    "FerramentasLinguagemNatural.metodoDoCotovelo (df_instrutores, \"titulo_acao\", opcoes_metodo_cotovelo)"
   ]
  },
  {
   "cell_type": "code",
   "execution_count": null,
   "id": "223f80b0",
   "metadata": {},
   "outputs": [],
   "source": [
    "opcoes_cluster_titulo_acao = {\n",
    "    'stopwords': stopwords_conteudo_capacita,\n",
    "    'KMeans':{\n",
    "        'quantidade_clusters':14\n",
    "    },\n",
    "    'TfidfVectorizer':{\n",
    "        'ngram_range': (1,1)\n",
    "    }\n",
    "}  "
   ]
  },
  {
   "cell_type": "code",
   "execution_count": null,
   "id": "3ac0eb26",
   "metadata": {},
   "outputs": [],
   "source": [
    "coluna_texto_titulo_acao = 'titulo_acao'\n",
    "\n",
    "[\n",
    "    df_cluster_titulo_acao, \n",
    "    coluna_cluster_titulo_acao, \n",
    "    modelo_titulo_acao, \n",
    "    fittedVectorizer_titulo_acao\n",
    "    \n",
    "] = FerramentasLinguagemNatural.gerarCluster (\n",
    "    df_instrutores,     \n",
    "    coluna_texto_titulo_acao, \n",
    "    opcoes_cluster_titulo_acao)"
   ]
  },
  {
   "cell_type": "markdown",
   "id": "df9fa5bf",
   "metadata": {},
   "source": [
    "# Nome Curso"
   ]
  },
  {
   "cell_type": "code",
   "execution_count": null,
   "id": "d47d9d94",
   "metadata": {},
   "outputs": [],
   "source": [
    "FerramentasLinguagemNatural.metodoDoCotovelo (df_instrutores, \"nome_curso\", opcoes_metodo_cotovelo)"
   ]
  },
  {
   "cell_type": "code",
   "execution_count": null,
   "id": "dd10bf10",
   "metadata": {},
   "outputs": [],
   "source": [
    "opcoes_cluster_nome_curso = {\n",
    "    'stopwords': stopwords_conteudo_capacita,\n",
    "    'KMeans':{\n",
    "        'quantidade_clusters':16\n",
    "    },\n",
    "    'TfidfVectorizer':{\n",
    "        'ngram_range': (1,1)\n",
    "    }\n",
    "}  "
   ]
  },
  {
   "cell_type": "code",
   "execution_count": null,
   "id": "e2ef1eee",
   "metadata": {},
   "outputs": [],
   "source": [
    "coluna_texto_nome_curso = 'nome_curso'\n",
    "\n",
    "[\n",
    "    df_cluster_nome_curso, \n",
    "    coluna_cluster_nome_curso, \n",
    "    modelo_nome_curso, \n",
    "    fittedVectorizer_nome_curso\n",
    "    \n",
    "] = FerramentasLinguagemNatural.gerarCluster (\n",
    "    df_instrutores,     \n",
    "    coluna_texto_nome_curso, \n",
    "    opcoes_cluster_nome_curso)"
   ]
  },
  {
   "cell_type": "markdown",
   "id": "4024b517",
   "metadata": {},
   "source": [
    "# Objetivo Projeto"
   ]
  },
  {
   "cell_type": "code",
   "execution_count": null,
   "id": "06981ab2",
   "metadata": {},
   "outputs": [],
   "source": [
    "FerramentasLinguagemNatural.metodoDoCotovelo (df_instrutores, \"objetivo_projeto\", opcoes_metodo_cotovelo)"
   ]
  },
  {
   "cell_type": "code",
   "execution_count": null,
   "id": "1f6fb9f0",
   "metadata": {},
   "outputs": [],
   "source": [
    "opcoes_cluster_objetivo_projeto = {\n",
    "    'stopwords': stopwords_conteudo_capacita,\n",
    "    'KMeans':{\n",
    "        'quantidade_clusters':13\n",
    "    },\n",
    "    'TfidfVectorizer':{\n",
    "        'ngram_range': (1,1)\n",
    "    }\n",
    "}  "
   ]
  },
  {
   "cell_type": "code",
   "execution_count": null,
   "id": "e1cd1908",
   "metadata": {},
   "outputs": [],
   "source": [
    "coluna_texto_objetivo_projeto = 'objetivo_projeto'\n",
    "\n",
    "[\n",
    "    df_cluster_objetivo_projeto, \n",
    "    coluna_cluster_objetivo_projeto, \n",
    "    modelo_objetivo_projeto, \n",
    "    fittedVectorizer_objetivo_projeto\n",
    "    \n",
    "] = FerramentasLinguagemNatural.gerarCluster (\n",
    "    df_instrutores,     \n",
    "    coluna_texto_objetivo_projeto, \n",
    "    opcoes_cluster_objetivo_projeto)"
   ]
  },
  {
   "cell_type": "code",
   "execution_count": null,
   "id": "698ca90e",
   "metadata": {},
   "outputs": [],
   "source": [
    "   \n",
    "df_instrutores_clusterizado = pd.merge (\n",
    "     df_instrutores,  \n",
    "     df_cluster_conteudo_programatico[[\"id_instrutoria\", coluna_cluster_conteudo_programatico]],  \n",
    "     how=\"left\", \n",
    "     on=\"id_instrutoria\")\n",
    "\n",
    "df_instrutores_clusterizado = pd.merge (\n",
    "    df_instrutores_clusterizado,  \n",
    "    df_cluster_titulo_acao[[\"id_instrutoria\", coluna_cluster_titulo_acao]],  \n",
    "    how=\"left\", \n",
    "    on=\"id_instrutoria\")\n",
    "\n",
    "df_instrutores_clusterizado = pd.merge (\n",
    "    df_instrutores_clusterizado,  \n",
    "    df_cluster_objetivo_projeto[[\"id_instrutoria\", coluna_cluster_objetivo_projeto]],  \n",
    "    how=\"left\", \n",
    "    on=\"id_instrutoria\")\n",
    "\n",
    "df_instrutores_clusterizado = pd.merge (\n",
    "    df_instrutores_clusterizado,  \n",
    "    df_cluster_nome_curso[[\"id_instrutoria\", coluna_cluster_nome_curso]],  \n",
    "    how=\"left\", \n",
    "    on=\"id_instrutoria\")\n",
    "\n",
    "de_para = {\n",
    "    coluna_cluster_conteudo_programatico:\"cluster_conteudo_programatico\",\n",
    "    coluna_cluster_titulo_acao:\"cluster_titulo_acao\",        \n",
    "    coluna_cluster_objetivo_projeto:\"cluster_objetivo_projeto\",\n",
    "    coluna_cluster_nome_curso:\"cluster_nome_curso\"\n",
    "}\n",
    "df_instrutores_clusterizado = df_instrutores_clusterizado.rename(columns=de_para, errors=\"raise\")\n"
   ]
  },
  {
   "cell_type": "code",
   "execution_count": null,
   "id": "300afcce",
   "metadata": {},
   "outputs": [],
   "source": [
    "df_instrutores_clusterizado.info()"
   ]
  },
  {
   "cell_type": "code",
   "execution_count": null,
   "id": "60380d10",
   "metadata": {},
   "outputs": [],
   "source": [
    "pasta_destino = f'z:/bases_capacita/projeto_capacita/tcc_bonafe/'\n",
    "nome_arquivo = f'{pasta_destino}/{prefixoData(datetime.now())}-instrutores_clusterizacao_variaveis_textos.csv'\n",
    "df_instrutores_clusterizado.to_csv (nome_arquivo, index=False)"
   ]
  }
 ],
 "metadata": {
  "kernelspec": {
   "display_name": "Python 3 (ipykernel)",
   "language": "python",
   "name": "python3"
  },
  "language_info": {
   "codemirror_mode": {
    "name": "ipython",
    "version": 3
   },
   "file_extension": ".py",
   "mimetype": "text/x-python",
   "name": "python",
   "nbconvert_exporter": "python",
   "pygments_lexer": "ipython3",
   "version": "3.8.13"
  }
 },
 "nbformat": 4,
 "nbformat_minor": 5
}
