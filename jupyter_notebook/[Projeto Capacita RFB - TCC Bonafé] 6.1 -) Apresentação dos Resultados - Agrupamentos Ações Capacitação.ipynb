{
 "cells": [
  {
   "cell_type": "code",
   "execution_count": null,
   "id": "6ffce0c7",
   "metadata": {},
   "outputs": [],
   "source": [
    "import os\n",
    "from os import listdir\n",
    "from os.path import isfile, join\n",
    "from datetime import datetime\n",
    "import re\n",
    "import json\n",
    "import pickle"
   ]
  },
  {
   "cell_type": "code",
   "execution_count": null,
   "id": "4588bbdc",
   "metadata": {},
   "outputs": [],
   "source": [
    "from IPython.display import display, Markdown"
   ]
  },
  {
   "cell_type": "code",
   "execution_count": null,
   "id": "00ed7167",
   "metadata": {},
   "outputs": [],
   "source": [
    "import numpy as np\n",
    "import pandas as pd\n",
    "import matplotlib.pyplot as plt"
   ]
  },
  {
   "cell_type": "code",
   "execution_count": null,
   "id": "9b13bc3c",
   "metadata": {},
   "outputs": [],
   "source": [
    "import warnings\n",
    "warnings.filterwarnings('ignore')\n",
    "\n",
    "import logging\n",
    "logger = logging.getLogger()\n",
    "logger.setLevel(logging.CRITICAL)"
   ]
  },
  {
   "cell_type": "code",
   "execution_count": null,
   "id": "b4ef0888",
   "metadata": {},
   "outputs": [],
   "source": [
    "import httpimport\n",
    "\n",
    "with httpimport.remote_repo(\n",
    "    ['visualizador_dataframes', 'ferramentas_linguagem_natural'],\n",
    "    'https://bonafe.github.io/CienciaDadosPython/src/componentes/'):\n",
    "    \n",
    "    from ferramentas_linguagem_natural import FerramentasLinguagemNatural\n",
    "    \n",
    "    from visualizador_dataframes import VisualizadorDataFrames    "
   ]
  },
  {
   "cell_type": "code",
   "execution_count": null,
   "id": "0e6e6cca",
   "metadata": {},
   "outputs": [],
   "source": [
    "df_instrutores = pd.read_csv(\"z:/bases_capacita/projeto_capacita/tcc_bonafe/2022_06_30-instrutores_clusterizacao_variaveis_textos.csv\", index_col=None, header=0)\n",
    "df_instrutores.name = \"instrutores\""
   ]
  },
  {
   "cell_type": "code",
   "execution_count": null,
   "id": "bedd6eb8",
   "metadata": {},
   "outputs": [],
   "source": [
    "df_instrutores.info()"
   ]
  },
  {
   "cell_type": "code",
   "execution_count": null,
   "id": "c5704503",
   "metadata": {},
   "outputs": [],
   "source": [
    "stopwords_conteudo_capacita = [\n",
    "    \"curso\",\n",
    "    \"apresentação\", \n",
    "    \"turma\", \n",
    "    \"capacitação\", \n",
    "    \"aula\", \n",
    "    \"utilização\", \n",
    "    \"prático\", \n",
    "    \"estudo\", \n",
    "    \"treinamento\", \n",
    "    \"encontro\", \n",
    "    \"seminário\",\n",
    "    \"especialização\",\n",
    "    \"repasse\",\n",
    "    \"funcionalidade\",\n",
    "    \"sistema\",\n",
    "    \"atuam\",\n",
    "    \"atuar\",\n",
    "    \"servidores\",\n",
    "    \"utilização\",\n",
    "    \"análise\",\n",
    "    \"sobre\",\n",
    "    \"objetivo\",\n",
    "    \"área\",\n",
    "    \"equipe\",\n",
    "    \"visando\",\n",
    "    \"habilitar\",\n",
    "    \"conhecimento\",\n",
    "    \"processo\",\n",
    "    \"trabalho\",\n",
    "    \"receita\",\n",
    "    \"federal\",\n",
    "    \"participante\",\n",
    "    \"apresentar\",\n",
    "    \"ações\",\n",
    "    \"ação\",\n",
    "    \"envolvendo\",\n",
    "    \"desde\",\n",
    "    \"rfb\",\n",
    "    \"nbsp\",\n",
    "    \"conhecer\",\n",
    "    \"capacitar\",\n",
    "    \"atualizar\",\n",
    "    \"reciclar\",\n",
    "    \"região\"\n",
    "]"
   ]
  },
  {
   "cell_type": "markdown",
   "id": "f7676046",
   "metadata": {},
   "source": [
    "# Conteúdo Programático"
   ]
  },
  {
   "cell_type": "code",
   "execution_count": null,
   "id": "b4a44ce9",
   "metadata": {},
   "outputs": [],
   "source": [
    "FerramentasLinguagemNatural.exibirClusters(\n",
    "    df_instrutores, \n",
    "    \"conteudo_programatico\", \n",
    "    \"cluster_conteudo_programatico\", \n",
    "    f'Clusters conteudo_programatico', \n",
    "    treemap=True,\n",
    "    lista_stopwords=stopwords_conteudo_capacita)"
   ]
  },
  {
   "cell_type": "markdown",
   "id": "2110604c",
   "metadata": {},
   "source": [
    "# Título Ação"
   ]
  },
  {
   "cell_type": "code",
   "execution_count": null,
   "id": "48dd7b49",
   "metadata": {},
   "outputs": [],
   "source": [
    "FerramentasLinguagemNatural.exibirClusters(\n",
    "    df_instrutores, \n",
    "    \"titulo_acao\", \n",
    "    \"cluster_titulo_acao\", \n",
    "    f'Clusters titulo_acao', \n",
    "    treemap=True,\n",
    "    lista_stopwords=stopwords_conteudo_capacita)"
   ]
  },
  {
   "cell_type": "markdown",
   "id": "df9fa5bf",
   "metadata": {},
   "source": [
    "# Nome Curso"
   ]
  },
  {
   "cell_type": "code",
   "execution_count": null,
   "id": "b913237c",
   "metadata": {},
   "outputs": [],
   "source": [
    "FerramentasLinguagemNatural.exibirClusters(\n",
    "    df_instrutores, \n",
    "    \"nome_curso\", \n",
    "    \"cluster_nome_curso\", \n",
    "    f'Clusters nome_curso', \n",
    "    treemap=True,\n",
    "    lista_stopwords=stopwords_conteudo_capacita)"
   ]
  },
  {
   "cell_type": "markdown",
   "id": "4024b517",
   "metadata": {},
   "source": [
    "# Objetivo Projeto"
   ]
  },
  {
   "cell_type": "code",
   "execution_count": null,
   "id": "ad925854",
   "metadata": {},
   "outputs": [],
   "source": [
    "FerramentasLinguagemNatural.exibirClusters(\n",
    "    df_instrutores, \n",
    "    \"objetivo_projeto\", \n",
    "    \"cluster_objetivo_projeto\", \n",
    "    f'Clusters objetivo_projeto', \n",
    "    treemap=True,\n",
    "    lista_stopwords=stopwords_conteudo_capacita)"
   ]
  }
 ],
 "metadata": {
  "kernelspec": {
   "display_name": "Python 3 (ipykernel)",
   "language": "python",
   "name": "python3"
  },
  "language_info": {
   "codemirror_mode": {
    "name": "ipython",
    "version": 3
   },
   "file_extension": ".py",
   "mimetype": "text/x-python",
   "name": "python",
   "nbconvert_exporter": "python",
   "pygments_lexer": "ipython3",
   "version": "3.8.13"
  }
 },
 "nbformat": 4,
 "nbformat_minor": 5
}
