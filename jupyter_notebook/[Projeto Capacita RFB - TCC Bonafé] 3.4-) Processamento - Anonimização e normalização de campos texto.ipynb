{
 "cells": [
  {
   "cell_type": "code",
   "execution_count": null,
   "id": "cb61d22e",
   "metadata": {},
   "outputs": [],
   "source": [
    "import os\n",
    "from os import listdir\n",
    "from os.path import isfile, join\n",
    "\n",
    "import re\n",
    "\n",
    "import numpy as np\n",
    "\n",
    "from datetime import datetime\n",
    "\n",
    "import json\n",
    "\n",
    "import pandas as pd\n",
    "\n",
    "from IPython.display import display, Markdown\n",
    "\n",
    "import uuid\n",
    "\n",
    "import html"
   ]
  },
  {
   "cell_type": "code",
   "execution_count": null,
   "id": "2475ccd6",
   "metadata": {},
   "outputs": [],
   "source": [
    "import httpimport\n",
    "\n",
    "with httpimport.remote_repo(['visualizador_dataframes','ferramentas_linguagem_natural'],'https://bonafe.github.io/CienciaDadosPython/src/componentes/'):\n",
    "    from visualizador_dataframes import VisualizadorDataFrames\n",
    "    from ferramentas_linguagem_natural import FerramentasLinguagemNatural"
   ]
  },
  {
   "cell_type": "code",
   "execution_count": null,
   "id": "cada668b",
   "metadata": {},
   "outputs": [],
   "source": [
    "pd.set_option('display.max_rows', 1000)\n",
    "pd.set_option('display.max_columns', None)\n",
    "pd.set_option('display.max_colwidth', 10000)"
   ]
  },
  {
   "cell_type": "code",
   "execution_count": null,
   "id": "c9d889d0",
   "metadata": {},
   "outputs": [],
   "source": [
    "def prefixoData(data):\n",
    "    return data.strftime(\"%Y_%m_%d\")"
   ]
  },
  {
   "cell_type": "code",
   "execution_count": null,
   "id": "ddc5f798",
   "metadata": {},
   "outputs": [],
   "source": [
    "pasta_tcc_bonafe = os.path.dirname(\"z:/bases_capacita/projeto_capacita/tcc_bonafe/\")\n",
    "todos_arquivos_pasta_tcc_bonafe = listdir(pasta_tcc_bonafe)\n",
    "\n",
    "print ('\\n*************** Arquivos Base TCC Bonafé ***************\\n\\n')\n",
    "print (*todos_arquivos_pasta_tcc_bonafe, sep = '\\n')"
   ]
  },
  {
   "cell_type": "code",
   "execution_count": null,
   "id": "a2d9411e",
   "metadata": {},
   "outputs": [],
   "source": [
    "\n",
    "df_instrutores = pd.read_csv( os.path.join(pasta_tcc_bonafe,\"2022_06_30-instrutores_acoes-capacitacao_conteudo-programatico.csv\"), index_col=None, header=0)\n",
    "df_instrutores.name = \"instrutores\"\n"
   ]
  },
  {
   "cell_type": "markdown",
   "id": "b3ca605c",
   "metadata": {},
   "source": [
    "# Anonimização dos dados pessoais"
   ]
  },
  {
   "cell_type": "code",
   "execution_count": null,
   "id": "95fe7315",
   "metadata": {},
   "outputs": [],
   "source": [
    "def anonimizarSerie(df, coluna, coluna_anonimizada):\n",
    "    \n",
    "    df_copia = df.copy()\n",
    "    \n",
    "    dicionario = {}\n",
    "    \n",
    "    for indice, valor in df[coluna].iteritems():\n",
    "        if valor not in dicionario:\n",
    "            dicionario[valor] = str(uuid.uuid1())\n",
    "        \n",
    "    df_copia[coluna_anonimizada] = df_copia.apply (lambda linha: dicionario[linha[coluna]], axis=1)\n",
    "    \n",
    "    return df_copia\n",
    "    "
   ]
  },
  {
   "cell_type": "code",
   "execution_count": null,
   "id": "87d6fb5c",
   "metadata": {},
   "outputs": [],
   "source": [
    "df_instrutores = df_instrutores[df_instrutores['matricula_siape'].notna()]"
   ]
  },
  {
   "cell_type": "code",
   "execution_count": null,
   "id": "8b9c02c6",
   "metadata": {},
   "outputs": [],
   "source": [
    "ds_anonimizado = anonimizarSerie(df_instrutores, \"matricula_siape\", \"matricula_siape_anonimizada\")\n",
    "ds_anonimizado = anonimizarSerie(ds_anonimizado, \"nome_instrutor\", \"nome_instrutor_anonimizado\")\n",
    "ds_anonimizado = anonimizarSerie(ds_anonimizado, \"nome_rcd\", \"nome_rcd_anonimizado\")"
   ]
  },
  {
   "cell_type": "markdown",
   "id": "88fe594f",
   "metadata": {},
   "source": [
    "# Remoção dos nomes de pessoas das variáveis textos"
   ]
  },
  {
   "cell_type": "code",
   "execution_count": null,
   "id": "25f57554",
   "metadata": {},
   "outputs": [],
   "source": [
    "FerramentasLinguagemNatural.gerarDicionario(ds_anonimizado['nome_instrutor']).sort_values(\"contagem\", ascending=False).head(10)"
   ]
  },
  {
   "cell_type": "code",
   "execution_count": null,
   "id": "590a261e",
   "metadata": {},
   "outputs": [],
   "source": [
    "FerramentasLinguagemNatural.gerarDicionario(ds_anonimizado['nome_rcd']).sort_values(\"contagem\", ascending=False).head(10)"
   ]
  },
  {
   "cell_type": "code",
   "execution_count": null,
   "id": "08ec35b3",
   "metadata": {},
   "outputs": [],
   "source": [
    "dicionario_nomes = pd.concat([\n",
    "    FerramentasLinguagemNatural.gerarDicionario(ds_anonimizado['nome_instrutor']),\n",
    "    FerramentasLinguagemNatural.gerarDicionario(ds_anonimizado['nome_rcd'])\n",
    "])"
   ]
  },
  {
   "cell_type": "code",
   "execution_count": null,
   "id": "e3793728",
   "metadata": {},
   "outputs": [],
   "source": [
    "lista_nomes = dicionario_nomes['palavra'].to_list()"
   ]
  },
  {
   "cell_type": "code",
   "execution_count": null,
   "id": "ce70139b",
   "metadata": {},
   "outputs": [],
   "source": [
    "#Retira de uma string qualquer nome que apareça na lista de nomes\n",
    "def retirarNomesString(string):\n",
    "    \n",
    "    string = str(string)\n",
    "    \n",
    "    #Apenas concatena palavras que não estão na lista de nomes (em minúsculo)\n",
    "    return ' '.join([palavra for palavra in string.split() if palavra.lower() not in (lista_nomes)])"
   ]
  },
  {
   "cell_type": "code",
   "execution_count": null,
   "id": "2176c54f",
   "metadata": {},
   "outputs": [],
   "source": [
    "#Remove todos as palavras que são nomes da coluna conteudo_programatico\n",
    "ds_anonimizado['conteudo_programatico'] = ds_anonimizado['conteudo_programatico'].apply(retirarNomesString)"
   ]
  },
  {
   "cell_type": "code",
   "execution_count": null,
   "id": "c687dd00",
   "metadata": {},
   "outputs": [],
   "source": [
    "#Remove todos as palavras que são nomes da coluna conteudo_programatico\n",
    "ds_anonimizado['titulo_acao'] = ds_anonimizado['titulo_acao'].apply(retirarNomesString)"
   ]
  },
  {
   "cell_type": "code",
   "execution_count": null,
   "id": "efb055bf",
   "metadata": {},
   "outputs": [],
   "source": [
    "#Remove todos as palavras que são nomes da coluna nome_curso\n",
    "ds_anonimizado['nome_curso'] = ds_anonimizado['nome_curso'].apply(retirarNomesString)"
   ]
  },
  {
   "cell_type": "code",
   "execution_count": null,
   "id": "e947daff",
   "metadata": {},
   "outputs": [],
   "source": [
    "#Remove todos as palavras que são nomes da coluna objetivo_projeto\n",
    "ds_anonimizado['objetivo_projeto'] = ds_anonimizado['objetivo_projeto'].apply(retirarNomesString)"
   ]
  },
  {
   "cell_type": "markdown",
   "id": "8b977833",
   "metadata": {},
   "source": [
    "# Remoção de caracteres especiais HTML das variáveis texto"
   ]
  },
  {
   "cell_type": "code",
   "execution_count": null,
   "id": "e4865f1c",
   "metadata": {},
   "outputs": [],
   "source": [
    "\n",
    "def removerCaracteresEspeciais(texto):\n",
    "    texto = str(texto)\n",
    "    return html.unescape(texto)"
   ]
  },
  {
   "cell_type": "code",
   "execution_count": null,
   "id": "c14514bb",
   "metadata": {},
   "outputs": [],
   "source": [
    "ds_anonimizado['conteudo_programatico'] = ds_anonimizado['conteudo_programatico'].apply(removerCaracteresEspeciais)"
   ]
  },
  {
   "cell_type": "code",
   "execution_count": null,
   "id": "cf7134d2",
   "metadata": {},
   "outputs": [],
   "source": [
    "ds_anonimizado['titulo_acao'] = ds_anonimizado['titulo_acao'].apply(removerCaracteresEspeciais)"
   ]
  },
  {
   "cell_type": "code",
   "execution_count": null,
   "id": "a17329d3",
   "metadata": {},
   "outputs": [],
   "source": [
    "ds_anonimizado['nome_curso'] = ds_anonimizado['nome_curso'].apply(removerCaracteresEspeciais)"
   ]
  },
  {
   "cell_type": "code",
   "execution_count": null,
   "id": "4099bc0c",
   "metadata": {},
   "outputs": [],
   "source": [
    "ds_anonimizado['objetivo_projeto'] = ds_anonimizado['objetivo_projeto'].apply(removerCaracteresEspeciais)"
   ]
  },
  {
   "cell_type": "markdown",
   "id": "f726877b",
   "metadata": {},
   "source": [
    "# Remoção das colunas com identificações pessoais"
   ]
  },
  {
   "cell_type": "code",
   "execution_count": null,
   "id": "19ddc83b",
   "metadata": {},
   "outputs": [],
   "source": [
    "ds_anonimizado.drop (columns=['matricula_siape', 'nome_instrutor', 'nome_rcd'], inplace=True)"
   ]
  },
  {
   "cell_type": "code",
   "execution_count": null,
   "id": "b30051bd",
   "metadata": {},
   "outputs": [],
   "source": [
    "ds_anonimizado.info()"
   ]
  },
  {
   "cell_type": "code",
   "execution_count": null,
   "id": "2c0ba80e",
   "metadata": {},
   "outputs": [],
   "source": [
    "pasta_destino = f'z:/bases_capacita/projeto_capacita/tcc_bonafe/'\n",
    "nome_arquivo = f'{pasta_destino}/{prefixoData(datetime.now())}-instrutores_acoes-capacitacao_conteudo-programatico_anonimizado.csv'"
   ]
  },
  {
   "cell_type": "code",
   "execution_count": null,
   "id": "f36601aa",
   "metadata": {},
   "outputs": [],
   "source": [
    "ds_anonimizado.to_csv (nome_arquivo, index=False)"
   ]
  }
 ],
 "metadata": {
  "kernelspec": {
   "display_name": "Python 3 (ipykernel)",
   "language": "python",
   "name": "python3"
  },
  "language_info": {
   "codemirror_mode": {
    "name": "ipython",
    "version": 3
   },
   "file_extension": ".py",
   "mimetype": "text/x-python",
   "name": "python",
   "nbconvert_exporter": "python",
   "pygments_lexer": "ipython3",
   "version": "3.8.13"
  }
 },
 "nbformat": 4,
 "nbformat_minor": 5
}
