{
 "cells": [
  {
   "cell_type": "code",
   "execution_count": null,
   "id": "14a950bb",
   "metadata": {},
   "outputs": [],
   "source": [
    "import os\n",
    "from os import listdir\n",
    "from os.path import isfile, join\n",
    "\n",
    "import re\n",
    "\n",
    "import numpy as np\n",
    "\n",
    "from datetime import datetime\n",
    "\n",
    "import json\n",
    "\n",
    "import pandas as pd\n",
    "\n",
    "from IPython.display import display, Markdown"
   ]
  },
  {
   "cell_type": "code",
   "execution_count": null,
   "id": "9d6e2678",
   "metadata": {},
   "outputs": [],
   "source": [
    "import httpimport\n",
    "\n",
    "with httpimport.remote_repo(['visualizador_dataframes'],'https://bonafe.github.io/CienciaDadosPython/src/componentes/'):\n",
    "    from visualizador_dataframes import VisualizadorDataFrames"
   ]
  },
  {
   "cell_type": "code",
   "execution_count": null,
   "id": "48c6457c",
   "metadata": {},
   "outputs": [],
   "source": [
    "pd.set_option('display.max_rows', 1000)\n",
    "pd.set_option('display.max_columns', None)\n",
    "pd.set_option('display.max_colwidth', 10000)"
   ]
  },
  {
   "cell_type": "code",
   "execution_count": null,
   "id": "65a64943",
   "metadata": {},
   "outputs": [],
   "source": [
    "def prefixoData(data):\n",
    "    return data.strftime(\"%Y_%m_%d\")"
   ]
  },
  {
   "cell_type": "code",
   "execution_count": null,
   "id": "93e6fd79",
   "metadata": {},
   "outputs": [],
   "source": [
    "pasta_capacitacao = os.path.dirname(\"z:/bases_capacita/projeto_capacita/sa3/entrega_2022/\")\n",
    "todos_arquivos_pasta_capacitacao = listdir(pasta_capacitacao)\n",
    "\n",
    "print ('\\n*************** Arquivos Base Capacitação ***************\\n\\n')\n",
    "print (*todos_arquivos_pasta_capacitacao, sep = '\\n')"
   ]
  },
  {
   "cell_type": "code",
   "execution_count": null,
   "id": "517c8788",
   "metadata": {},
   "outputs": [],
   "source": [
    "df_conteudo_programatico = pd.read_csv( os.path.join(pasta_capacitacao,\"2022_06_01-conteudo_programatico_acoes_capacitacao.csv\"), index_col=None, header=0)\n",
    "df_conteudo_programatico.name = \"conteudo_programatico\""
   ]
  },
  {
   "cell_type": "code",
   "execution_count": null,
   "id": "7173d9b1",
   "metadata": {},
   "outputs": [],
   "source": [
    "\n",
    "visualizador = VisualizadorDataFrames(df_conteudo_programatico)\n"
   ]
  },
  {
   "cell_type": "code",
   "execution_count": null,
   "id": "b5ba93fa",
   "metadata": {},
   "outputs": [],
   "source": [
    "visualizador.exibirMetricas(\"conteudo_programatico\", log=False)"
   ]
  },
  {
   "cell_type": "code",
   "execution_count": null,
   "id": "c7d948ef",
   "metadata": {},
   "outputs": [],
   "source": [
    "df_conteudo_programatico.info()"
   ]
  },
  {
   "cell_type": "code",
   "execution_count": null,
   "id": "b3973d4c",
   "metadata": {},
   "outputs": [],
   "source": [
    "display(\"Número de registos conteúdo programático:\")\n",
    "display(df_conteudo_programatico[\"id_acao\"].count())\n",
    "display(\"Número de ações conteúdo programático:\")\n",
    "display(df_conteudo_programatico[\"id_acao\"].nunique())\n"
   ]
  },
  {
   "cell_type": "code",
   "execution_count": null,
   "id": "d1705bd7",
   "metadata": {},
   "outputs": [],
   "source": [
    "df_conteudo_programatico.value_counts([\"id_acao\",\"id_trimestre\"])"
   ]
  },
  {
   "cell_type": "code",
   "execution_count": null,
   "id": "ba728a75",
   "metadata": {},
   "outputs": [],
   "source": [
    "#Cria uma coluna id_acao_trimestre que representa um conjunto de conteúdos programáticos \n",
    "df_conteudo_programatico[\"id_acao_trimestre\"] = (\n",
    "    df_conteudo_programatico[\"id_acao\"].astype(str) + \n",
    "    \"_\" + \n",
    "    df_conteudo_programatico[\"id_trimestre\"].astype(str))"
   ]
  },
  {
   "cell_type": "code",
   "execution_count": null,
   "id": "85daac82",
   "metadata": {},
   "outputs": [],
   "source": [
    "display(f'Número de conjuntos de conteúdo programátrico (id_acao + id_trimestre): {df_conteudo_programatico[\"id_acao_trimestre\"].nunique()}')\n",
    "display(Markdown(\"### Cada conjunto (id_acao + id_trimestre) possue vários registros de conteúdo numerados em sequencia\"))"
   ]
  },
  {
   "cell_type": "code",
   "execution_count": null,
   "id": "ee75e895",
   "metadata": {},
   "outputs": [],
   "source": [
    "#TODO: descobrir um jeito de não ter que iterar pelas linhas\n",
    "#df_agrupado = df.groupby(['id_acao_trismestre','sequencia_conteudo'])['conteudo_programatico'].apply(lambda x: ','.join(x)).reset_index()\n",
    "\n",
    "#Ordena o dataframe de conteúdo programático por conjunto de conteúdos e a sequencia do conteúdo\n",
    "df_conteudo_programatico.sort_values(['id_acao_trimestre', 'sequencia_conteudo'], ascending=[True, False], inplace=True)\n",
    "\n",
    "df_iter = df_conteudo_programatico.reset_index()\n",
    "\n",
    "lista = []\n",
    "obj ={\n",
    "    'id_acao_trimestre': None\n",
    "}\n",
    "id_atual = None\n",
    "\n",
    "#Percorre o dataframe concatenando os diversos conteúdos programáticos de um conjunto (id_acao e id_trimestre)\n",
    "for index, row in df_iter.iterrows():\n",
    "    \n",
    "    \n",
    "    #Se mudou de ação e existe ação anterior\n",
    "    if row[\"id_acao_trimestre\"] != obj[\"id_acao_trimestre\"]:\n",
    "        if obj[\"id_acao_trimestre\"] != None:\n",
    "            lista.append(obj)        \n",
    "            \n",
    "        obj = {\n",
    "            'id_acao':row[\"id_acao\"],\n",
    "            'id_trimestre':row[\"id_trimestre\"],\n",
    "            'id_acao_trimestre':row[\"id_acao_trimestre\"],\n",
    "            'titulo_acao' : row[\"titulo_acao\"],\n",
    "            'conteudo_programatico':row[\"conteudo_programatico\"]\n",
    "        }\n",
    "    else:\n",
    "        obj['conteudo_programatico'] += \" \" + row[\"conteudo_programatico\"]\n",
    "    \n",
    "df_conteudo_programatico_agrupado = pd.DataFrame(lista)\n",
    "df_conteudo_programatico_agrupado.name = \"conteudo_programatico_agrupado\""
   ]
  },
  {
   "cell_type": "code",
   "execution_count": null,
   "id": "ae9cf6c7",
   "metadata": {},
   "outputs": [],
   "source": [
    "visualizador = VisualizadorDataFrames(df_conteudo_programatico_agrupado)\n",
    "\n",
    "visualizador.exibirMetricas(\"conteudo_programatico_agrupado\", log=False)"
   ]
  },
  {
   "cell_type": "code",
   "execution_count": null,
   "id": "1fdce5e1",
   "metadata": {},
   "outputs": [],
   "source": [
    "#Apenas pode haver um item por conjunto id_acao / id_trimestre --- OK\n",
    "df_conteudo_programatico_agrupado.value_counts([\"id_acao\",\"id_trimestre\"])"
   ]
  },
  {
   "cell_type": "code",
   "execution_count": null,
   "id": "1853ac16",
   "metadata": {},
   "outputs": [],
   "source": [
    "df_conteudo_programatico_agrupado.count()"
   ]
  },
  {
   "cell_type": "code",
   "execution_count": null,
   "id": "438c988c",
   "metadata": {},
   "outputs": [],
   "source": [
    "pasta_destino = f'z:/bases_capacita/projeto_capacita/tcc_bonafe/'\n",
    "nome_arquivo = f'{pasta_destino}/{prefixoData(datetime.now())}-conteudo_programatico_agrupado.csv'"
   ]
  },
  {
   "cell_type": "code",
   "execution_count": null,
   "id": "f4cec808",
   "metadata": {},
   "outputs": [],
   "source": [
    "df_conteudo_programatico_agrupado.info()"
   ]
  },
  {
   "cell_type": "code",
   "execution_count": null,
   "id": "c772a96a",
   "metadata": {},
   "outputs": [],
   "source": [
    "df_conteudo_programatico_agrupado.to_csv (nome_arquivo, index=False)"
   ]
  }
 ],
 "metadata": {
  "kernelspec": {
   "display_name": "Python 3 (ipykernel)",
   "language": "python",
   "name": "python3"
  },
  "language_info": {
   "codemirror_mode": {
    "name": "ipython",
    "version": 3
   },
   "file_extension": ".py",
   "mimetype": "text/x-python",
   "name": "python",
   "nbconvert_exporter": "python",
   "pygments_lexer": "ipython3",
   "version": "3.8.13"
  }
 },
 "nbformat": 4,
 "nbformat_minor": 5
}
