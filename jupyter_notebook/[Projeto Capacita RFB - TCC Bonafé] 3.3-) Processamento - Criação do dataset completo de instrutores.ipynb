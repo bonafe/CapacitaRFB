{
 "cells": [
  {
   "cell_type": "code",
   "execution_count": null,
   "id": "cb61d22e",
   "metadata": {},
   "outputs": [],
   "source": [
    "import os\n",
    "from os import listdir\n",
    "from os.path import isfile, join\n",
    "\n",
    "import re\n",
    "\n",
    "import numpy as np\n",
    "\n",
    "from datetime import datetime\n",
    "\n",
    "import json\n",
    "\n",
    "import pandas as pd\n",
    "\n",
    "from IPython.display import display, Markdown\n",
    "\n",
    "import uuid\n",
    "\n",
    "import html"
   ]
  },
  {
   "cell_type": "code",
   "execution_count": null,
   "id": "2475ccd6",
   "metadata": {},
   "outputs": [],
   "source": [
    "import httpimport\n",
    "\n",
    "with httpimport.remote_repo(['visualizador_dataframes','ferramentas_linguagem_natural'],'https://bonafe.github.io/CienciaDadosPython/src/componentes/'):\n",
    "    from visualizador_dataframes import VisualizadorDataFrames\n",
    "    from ferramentas_linguagem_natural import FerramentasLinguagemNatural"
   ]
  },
  {
   "cell_type": "code",
   "execution_count": null,
   "id": "cada668b",
   "metadata": {},
   "outputs": [],
   "source": [
    "pd.set_option('display.max_rows', 1000)\n",
    "pd.set_option('display.max_columns', None)\n",
    "pd.set_option('display.max_colwidth', 10000)"
   ]
  },
  {
   "cell_type": "code",
   "execution_count": null,
   "id": "c9d889d0",
   "metadata": {},
   "outputs": [],
   "source": [
    "def prefixoData(data):\n",
    "    return data.strftime(\"%Y_%m_%d\")"
   ]
  },
  {
   "cell_type": "code",
   "execution_count": null,
   "id": "8091df60",
   "metadata": {},
   "outputs": [],
   "source": [
    "pasta_capacitacao = os.path.dirname(\"z:/bases_capacita/projeto_capacita/sa3/entrega_2022/\")\n",
    "todos_arquivos_pasta_capacitacao = listdir(pasta_capacitacao)\n",
    "\n",
    "print ('\\n*************** Arquivos Base Capacitação ***************\\n\\n')\n",
    "print (*todos_arquivos_pasta_capacitacao, sep = '\\n')"
   ]
  },
  {
   "cell_type": "code",
   "execution_count": null,
   "id": "ddc5f798",
   "metadata": {},
   "outputs": [],
   "source": [
    "pasta_tcc_bonafe = os.path.dirname(\"z:/bases_capacita/projeto_capacita/tcc_bonafe/\")\n",
    "todos_arquivos_pasta_tcc_bonafe = listdir(pasta_tcc_bonafe)\n",
    "\n",
    "print ('\\n*************** Arquivos Base TCC Bonafé ***************\\n\\n')\n",
    "print (*todos_arquivos_pasta_tcc_bonafe, sep = '\\n')"
   ]
  },
  {
   "cell_type": "code",
   "execution_count": null,
   "id": "a2d9411e",
   "metadata": {},
   "outputs": [],
   "source": [
    "\n",
    "df_acoes = pd.read_csv( os.path.join(pasta_tcc_bonafe,\"2022_06_30-acoes_capacitacao_com_conteudo_programatico.csv\"), index_col=None, header=0)\n",
    "df_acoes.name = \"acoes\"\n",
    "\n",
    "df_instrutores = pd.read_csv( os.path.join(pasta_capacitacao,\"2022_06_02-instrutores.csv\"), index_col=None, header=0)\n",
    "df_instrutores.name = \"instrutores\""
   ]
  },
  {
   "cell_type": "code",
   "execution_count": null,
   "id": "740631e7",
   "metadata": {},
   "outputs": [],
   "source": [
    "visualizador = VisualizadorDataFrames(df_instrutores)\n",
    "visualizador.exibirMetricas(\"instrutores\", log=False)"
   ]
  },
  {
   "cell_type": "code",
   "execution_count": null,
   "id": "a093bba3",
   "metadata": {},
   "outputs": [],
   "source": [
    "df_instrutores.info()"
   ]
  },
  {
   "cell_type": "code",
   "execution_count": null,
   "id": "ad762d56",
   "metadata": {},
   "outputs": [],
   "source": [
    "df_instrutores.value_counts(\"ano_conclusao\").to_frame().sort_values(\"ano_conclusao\", ascending=True).plot.bar(legend=False)"
   ]
  },
  {
   "cell_type": "code",
   "execution_count": null,
   "id": "e21667c5",
   "metadata": {},
   "outputs": [],
   "source": [
    "display (f'Número de registros na coluna id_turma_execucao na base de Instrutores: {df_instrutores[\"id_turma_execucao\"].count()}')\n",
    "display (f'Número de registros na coluna id_acao na base de Instrutores: {df_instrutores[\"id_acao\"].count()}')"
   ]
  },
  {
   "cell_type": "code",
   "execution_count": null,
   "id": "4d96ef60",
   "metadata": {},
   "outputs": [],
   "source": [
    "display(df_instrutores.info())\n",
    "display(df_acoes.info())"
   ]
  },
  {
   "cell_type": "code",
   "execution_count": null,
   "id": "cd91aff7",
   "metadata": {},
   "outputs": [],
   "source": [
    "df_instrutores_completo = pd.merge (df_instrutores, df_acoes,  how=\"left\", on=\"id_turma_execucao\")"
   ]
  },
  {
   "cell_type": "code",
   "execution_count": null,
   "id": "24eadea9",
   "metadata": {},
   "outputs": [],
   "source": [
    "display(df_instrutores_completo.info())"
   ]
  },
  {
   "cell_type": "code",
   "execution_count": null,
   "id": "1deb1051",
   "metadata": {},
   "outputs": [],
   "source": [
    "dicionario = {\n",
    "    \"id_acao_x\":\"id_acao_base_instrutores\",\n",
    "    \"id_acao_y\":\"id_acao_base_acoes\",\n",
    "    \"carga_horaria_x\":\"carga_horaria_base_instrutores\",\n",
    "    \"carga_horaria_y\":\"carga_horaria_base_acoes\"\n",
    "}"
   ]
  },
  {
   "cell_type": "code",
   "execution_count": null,
   "id": "5868a832",
   "metadata": {},
   "outputs": [],
   "source": [
    "df_instrutores_completo.rename(columns=dicionario, inplace=True)"
   ]
  },
  {
   "cell_type": "code",
   "execution_count": null,
   "id": "c8e04a83",
   "metadata": {},
   "outputs": [],
   "source": [
    "colunas = df_instrutores_completo.columns.to_list()"
   ]
  },
  {
   "cell_type": "code",
   "execution_count": null,
   "id": "677d82d2",
   "metadata": {},
   "outputs": [],
   "source": [
    "colunas"
   ]
  },
  {
   "cell_type": "code",
   "execution_count": null,
   "id": "235fcaf6",
   "metadata": {},
   "outputs": [],
   "source": [
    "df_instrutores = df_instrutores_completo[[    \n",
    "    \"id_auto_incrementado_instrutoria\",\n",
    "    \"matricula_siape\",\n",
    "    \"nome_pessoa\",\n",
    "    \"id_turma_execucao\",\n",
    "    \"id_acao\",\n",
    "    \"ano_conclusao\",\n",
    "    \"ano_evento\",\n",
    "    \"data_inicio\",\n",
    "    \"data_fim\",\n",
    "    \"carga_horaria_base_instrutores\",\n",
    "    \"objetivo_projeto\",    \n",
    "    \"tipo\",\n",
    "    \"tipo_competencia\",\n",
    "    \"titulo_competencia\",\n",
    "    \"nome_curso\",\n",
    "    \"titulo_acao_base_acoes\",\n",
    "    \"conteudo_programatico\",\n",
    "    \"nome_rcd\"\n",
    "]]\n",
    "df_instrutores.name = \"instrutores\""
   ]
  },
  {
   "cell_type": "code",
   "execution_count": null,
   "id": "f3f5e2b7",
   "metadata": {},
   "outputs": [],
   "source": [
    "visualizador = VisualizadorDataFrames(df_instrutores)\n",
    "visualizador.exibirMetricas(\"instrutores\", log=False)"
   ]
  },
  {
   "cell_type": "code",
   "execution_count": null,
   "id": "0c2683d0",
   "metadata": {},
   "outputs": [],
   "source": [
    "for coluna in df_instrutores.columns:\n",
    "    print (f'\"{coluna}\":\"{coluna.replace(\" \",\"_\").replace(\"de_\",\"\").replace(\"da_\",\"\").lower()}\",')"
   ]
  },
  {
   "cell_type": "code",
   "execution_count": null,
   "id": "90c28813",
   "metadata": {},
   "outputs": [],
   "source": [
    "\n",
    "de_para = {\n",
    "\n",
    "    \"id_auto_incrementado_instrutoria\":\"id_instrutoria\",\n",
    "    \"matricula_siape\":\"matricula_siape\",\n",
    "    \"nome_pessoa\":\"nome_instrutor\",\n",
    "    \"id_turma_execucao\":\"id_turma_execucao\",\n",
    "    \"id_acao\":\"id_acao\",\n",
    "    \"ano_conclusao\":\"ano_conclusao\",\n",
    "    \"ano_evento\":\"ano_evento\",\n",
    "    \"data_inicio\":\"data_inicio\",\n",
    "    \"data_fim\":\"data_fim\",\n",
    "    \"carga_horaria_base_instrutores\":\"carga_horaria\",\n",
    "    \"objetivo_projeto\":\"objetivo_projeto\",\n",
    "    \"tipo\":\"tipo\",\n",
    "    \"tipo_competencia\":\"tipo_competencia\",\n",
    "    \"titulo_competencia\":\"titulo_competencia\",\n",
    "    \"nome_curso\":\"nome_curso\",\n",
    "    \"titulo_acao_base_acoes\":\"titulo_acao\",\n",
    "    \"conteudo_programatico\":\"conteudo_programatico\",\n",
    "    \"nome_rcd\":\"nome_rcd\",\n",
    "}"
   ]
  },
  {
   "cell_type": "code",
   "execution_count": null,
   "id": "e9245f57",
   "metadata": {},
   "outputs": [],
   "source": [
    "df_instrutores_transformado = df_instrutores.rename(columns=de_para, errors=\"raise\")"
   ]
  },
  {
   "cell_type": "code",
   "execution_count": null,
   "id": "f862ceac",
   "metadata": {},
   "outputs": [],
   "source": [
    "df_instrutores_transformado.info()"
   ]
  },
  {
   "cell_type": "markdown",
   "id": "941f48ec",
   "metadata": {},
   "source": [
    "# Geração do arquivo preparado"
   ]
  },
  {
   "cell_type": "code",
   "execution_count": null,
   "id": "2c0ba80e",
   "metadata": {},
   "outputs": [],
   "source": [
    "pasta_destino = f'z:/bases_capacita/projeto_capacita/tcc_bonafe/'\n",
    "nome_arquivo = f'{pasta_destino}/{prefixoData(datetime.now())}-instrutores_acoes-capacitacao_conteudo-programatico.csv'"
   ]
  },
  {
   "cell_type": "code",
   "execution_count": null,
   "id": "f36601aa",
   "metadata": {},
   "outputs": [],
   "source": [
    "df_instrutores_transformado.to_csv (nome_arquivo, index=False)"
   ]
  }
 ],
 "metadata": {
  "kernelspec": {
   "display_name": "Python 3 (ipykernel)",
   "language": "python",
   "name": "python3"
  },
  "language_info": {
   "codemirror_mode": {
    "name": "ipython",
    "version": 3
   },
   "file_extension": ".py",
   "mimetype": "text/x-python",
   "name": "python",
   "nbconvert_exporter": "python",
   "pygments_lexer": "ipython3",
   "version": "3.8.13"
  }
 },
 "nbformat": 4,
 "nbformat_minor": 5
}
