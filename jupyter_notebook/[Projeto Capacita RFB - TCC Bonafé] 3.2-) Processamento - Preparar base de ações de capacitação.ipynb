{
 "cells": [
  {
   "cell_type": "code",
   "execution_count": null,
   "id": "e2762509",
   "metadata": {},
   "outputs": [],
   "source": [
    "import os\n",
    "from os import listdir\n",
    "from os.path import isfile, join\n",
    "\n",
    "import re\n",
    "\n",
    "import numpy as np\n",
    "\n",
    "from datetime import datetime\n",
    "\n",
    "import json\n",
    "\n",
    "import pandas as pd\n",
    "\n",
    "from IPython.display import display, Markdown\n",
    "\n",
    "import matplotlib.pyplot as plt"
   ]
  },
  {
   "cell_type": "code",
   "execution_count": null,
   "id": "d64b82b9",
   "metadata": {},
   "outputs": [],
   "source": [
    "import httpimport\n",
    "\n",
    "with httpimport.remote_repo(['visualizador_dataframes'],'https://bonafe.github.io/CienciaDadosPython/src/componentes/'):\n",
    "    from visualizador_dataframes import VisualizadorDataFrames"
   ]
  },
  {
   "cell_type": "code",
   "execution_count": null,
   "id": "a4f0cca0",
   "metadata": {},
   "outputs": [],
   "source": [
    "pd.set_option('display.max_rows', 1000)\n",
    "pd.set_option('display.max_columns', None)\n",
    "pd.set_option('display.max_colwidth', 10000)"
   ]
  },
  {
   "cell_type": "code",
   "execution_count": null,
   "id": "412253f5",
   "metadata": {},
   "outputs": [],
   "source": [
    "def prefixoData(data):\n",
    "    return data.strftime(\"%Y_%m_%d\")"
   ]
  },
  {
   "cell_type": "code",
   "execution_count": null,
   "id": "52262370",
   "metadata": {},
   "outputs": [],
   "source": [
    "pasta_capacitacao = os.path.dirname(\"z:/bases_capacita/projeto_capacita/sa3/entrega_2022/\")\n",
    "todos_arquivos_pasta_capacitacao = listdir(pasta_capacitacao)\n",
    "\n",
    "print ('\\n*************** Arquivos Base Capacitação ***************\\n\\n')\n",
    "print (*todos_arquivos_pasta_capacitacao, sep = '\\n')"
   ]
  },
  {
   "cell_type": "code",
   "execution_count": null,
   "id": "d6349c31",
   "metadata": {},
   "outputs": [],
   "source": [
    "pasta_tcc_bonafe = os.path.dirname(\"z:/bases_capacita/projeto_capacita/tcc_bonafe/\")\n",
    "todos_arquivos_pasta_tcc_bonafe = listdir(pasta_tcc_bonafe)\n",
    "\n",
    "print ('\\n*************** Arquivos Base TCC Bonafé ***************\\n\\n')\n",
    "print (*todos_arquivos_pasta_tcc_bonafe, sep = '\\n')"
   ]
  },
  {
   "cell_type": "code",
   "execution_count": null,
   "id": "c4f7a4f5",
   "metadata": {},
   "outputs": [],
   "source": [
    "df_acoes = pd.read_csv( os.path.join(pasta_capacitacao,\"2022_06_01-acoes_capacitacao.csv\"), index_col=None, header=0)\n",
    "df_acoes.name = \"acoes_capacitacao\"\n",
    "\n",
    "df_conteudo_programatico = pd.read_csv( os.path.join(pasta_tcc_bonafe,\"2022_06_30-conteudo_programatico_agrupado.csv\"), index_col=None, header=0)\n",
    "df_conteudo_programatico.name = \"conteudo_programatico_acoes_capacitacao\""
   ]
  },
  {
   "cell_type": "code",
   "execution_count": null,
   "id": "436329ff",
   "metadata": {},
   "outputs": [],
   "source": [
    "visualizador = VisualizadorDataFrames(df_acoes)\n",
    "visualizador.exibirMetricas(\"acoes_capacitacao\", log=False)"
   ]
  },
  {
   "cell_type": "code",
   "execution_count": null,
   "id": "85938eff",
   "metadata": {},
   "outputs": [],
   "source": [
    "df_acoes.info()"
   ]
  },
  {
   "cell_type": "code",
   "execution_count": null,
   "id": "41126fe1",
   "metadata": {},
   "outputs": [],
   "source": [
    "#Cria uma coluna id_acao_trimestre que representa um conjunto de conteúdos programáticos \n",
    "df_acoes[\"id_acao_trimestre\"] = df_acoes[\"id_acao\"].astype(str) + \"_\" + df_acoes[\"id_trimestre\"].astype(str)\n",
    "\n",
    "df_acoes_conteudos = pd.merge(df_acoes, df_conteudo_programatico, how=\"left\", on=[\"id_acao_trimestre\"])\n",
    "\n",
    "dicionario = {\n",
    "    \"id_acao_x\":\"id_acao_base_acoes\",\n",
    "    \"id_acao_y\":\"id_acao_base_conteudo_programatico\",\n",
    "    \"id_trimestre_x\":\"id_trimestre_base_acoes\",\n",
    "    \"id_trimestre_y\":\"id_trimestre_base_conteudo_programatico\",\n",
    "    \"titulo_acao_x\":\"titulo_acao_base_acoes\",\n",
    "    \"titulo_acao_y\":\"titulo_acao_base_conteudo_programatico\"\n",
    "}\n",
    "df_acoes_conteudos.rename(columns=dicionario, inplace=True)\n",
    "df_acoes_conteudos.name = \"acoes_conteudos\""
   ]
  },
  {
   "cell_type": "code",
   "execution_count": null,
   "id": "645ba9ab",
   "metadata": {},
   "outputs": [],
   "source": [
    "df_acoes_conteudos.info()"
   ]
  },
  {
   "cell_type": "code",
   "execution_count": null,
   "id": "cb65d550",
   "metadata": {},
   "outputs": [],
   "source": [
    "visualizador = VisualizadorDataFrames(df_acoes_conteudos)\n",
    "visualizador.exibirMetricas(\"acoes_conteudos\", log=False)"
   ]
  },
  {
   "cell_type": "code",
   "execution_count": null,
   "id": "8f681842",
   "metadata": {},
   "outputs": [],
   "source": [
    "len(pd.DataFrame([df_acoes.iat[0, indice_coluna].__class__.__name__\n",
    "            for indice_coluna in range(df_acoes.shape[1])])[0])"
   ]
  },
  {
   "cell_type": "code",
   "execution_count": null,
   "id": "7ecc4759",
   "metadata": {},
   "outputs": [],
   "source": [
    "df_acoes.count().to_frame()[0].index.tolist()"
   ]
  },
  {
   "cell_type": "code",
   "execution_count": null,
   "id": "1d325936",
   "metadata": {},
   "outputs": [],
   "source": [
    "display(df_acoes.count())\n",
    "display(df_acoes.dtypes)"
   ]
  },
  {
   "cell_type": "code",
   "execution_count": null,
   "id": "d1deba3c",
   "metadata": {},
   "outputs": [],
   "source": [
    "display(f'Número de id_acao_trimestre na base Ações de Capacitação: {df_acoes[\"id_acao_trimestre\"].count()}')\n",
    "display(f'Número de id_acao_trimestre ÚNICOS na base Ações de Capacitação: {df_acoes[\"id_acao_trimestre\"].nunique()}')\n",
    "display(f'Número de id_acao_trimestre na base Conteúdo Programático: {df_conteudo_programatico[\"id_acao_trimestre\"].count()}')\n",
    "display(f'Número de id_acao_trimestre ÚNICOS na base Conteúdo Programático: {df_conteudo_programatico[\"id_acao_trimestre\"].nunique()}')"
   ]
  },
  {
   "cell_type": "code",
   "execution_count": null,
   "id": "1eed9f3e",
   "metadata": {},
   "outputs": [],
   "source": [
    "display(f'Número de registos de conteúdo programático com campo id_acao_trimestre: {df_conteudo_programatico[\"id_acao_trimestre\"].count()}')\n",
    "display(f'Número de registos únicos de conteúdo programático com campo id_acao_trimestre: {df_conteudo_programatico[\"id_acao_trimestre\"].nunique()}')\n",
    "display(f'Número de registos de ações de capacitação com campo id_acao_trimestre: {df_acoes[\"id_acao_trimestre\"].count()}')\n",
    "display(f'Número de registos únicos de ações de capacitação com campo id_acao_trimestre: {df_acoes[\"id_acao_trimestre\"].nunique()}')\n",
    "#display(Markdown(f'### Apenas 4.562 de 15.640 ({round(4562/15640*100)}%) conjuntos de ação/trimestre possuem conteúdo programático:'))\n",
    "\n",
    "dados = {'Conteúdo programático': 4562, 'Ação/Trismestre': 15640}\n",
    "nomes = list(dados.keys())\n",
    "valores = list(dados.values())\n",
    "\n",
    "#plt.bar(range(len(dados)), valores, tick_label=nomes)\n",
    "#plt.show()"
   ]
  },
  {
   "cell_type": "code",
   "execution_count": null,
   "id": "af65b7a3",
   "metadata": {},
   "outputs": [],
   "source": [
    "#Cada registro da base de ações é uma turma\n",
    "display(f'Número de registros na coluna id_turma_execucao na base Ações de Capacitação: {df_acoes[\"id_turma_execucao\"].count()}')\n",
    "display(f'Número de registros ÚNICOS na coluna id_turma_execucao na base Ações de Capacitação: {df_acoes[\"id_turma_execucao\"].nunique()}')"
   ]
  },
  {
   "cell_type": "code",
   "execution_count": null,
   "id": "f86db3ac",
   "metadata": {},
   "outputs": [],
   "source": [
    "display(df_acoes_conteudos[\"conteudo_programatico\"].nunique())\n",
    "display(df_acoes_conteudos[\"conteudo_programatico\"].count())\n",
    "display(df_acoes_conteudos[\"conteudo_programatico\"].nunique()/df_acoes_conteudos[\"conteudo_programatico\"].count())\n",
    "display(df_acoes_conteudos[\"informacoes_adicionais_projeto\"].nunique())\n",
    "display(df_acoes_conteudos[\"informacoes_adicionais_projeto\"].count())\n",
    "display(df_acoes_conteudos[\"informacoes_adicionais_projeto\"].nunique()/df_acoes_conteudos[\"informacoes_adicionais_projeto\"].count())\n"
   ]
  },
  {
   "cell_type": "code",
   "execution_count": null,
   "id": "916f6461",
   "metadata": {},
   "outputs": [],
   "source": [
    "df = df_acoes_conteudos[[\n",
    "    \"id_trimestre_base_acoes\",\n",
    "    \"id_turma_execucao\", \n",
    "    \"id_acao_base_acoes\",     \n",
    "    \"id_acao_trimestre\",\n",
    "    \"modalidade_programa\", \n",
    "    \"modalidade_execucao\", \n",
    "    \"titulo_acao_base_acoes\",\n",
    "    \"titulo_acao_base_conteudo_programatico\",\n",
    "    \"conteudo_programatico\",\n",
    "    \"publico_alvo\",\n",
    "    \"objetivo_projeto\",\n",
    "    \"informacoes_adicionais_projeto\",\n",
    "    \"turma\",\n",
    "    \"regiao_promotora\",\n",
    "    \"municipio\",\n",
    "    \"data_inicio\",\n",
    "    \"data_fim\",\n",
    "    \"ano_evento\",\n",
    "    \"nivel_acao\",\n",
    "    \"tipo_demanda\",\n",
    "    \"tipo_competencia\",\n",
    "    \"titulo_competencia\",\n",
    "    \"nome_rcd\",\n",
    "    \"internacional\",\n",
    "    \"dispensa_ponto\",    \n",
    "]]\n",
    "\n",
    "df = df_acoes_conteudos\n",
    "\n",
    "contagem = df.count()\n",
    "contagem.name = \"contagem\"\n",
    "\n",
    "unicos = df.nunique()\n",
    "unicos.name = \"unicos\"\n",
    "\n",
    "log_contagem = np.log(df.count())\n",
    "log_contagem.name = \"log_contagem\"\n",
    "\n",
    "log_unicos = np.log(df.nunique())\n",
    "log_unicos.name = \"log_unicos\"\n",
    "\n",
    "normal = pd.merge(contagem, unicos, right_index=True, left_index=True).sort_values([\"unicos\"])\n",
    "#normal.plot(kind=\"bar\", figsize=(16,8), title=\"Contagem e Número de registros únicos \\npara cada campo da base de Ações de Capacitação\")\n",
    "\n",
    "log = pd.merge(log_contagem, log_unicos, right_index=True, left_index=True).sort_values([\"log_unicos\"])\n",
    "#log.plot(kind=\"bar\", figsize=(16,8), title=\"Log da Contagem e Número de registros únicos \\npara cada campo da base de Ações de Capacitação\")\n",
    "\n",
    "\n",
    "indice_variacao = normal[\"unicos\"] / normal[\"contagem\"]\n",
    "indice_variacao.name = \"indice_variacao\"\n",
    "normal = pd.merge (normal, indice_variacao, right_index=True, left_index=True).sort_values([\"indice_variacao\"])\n",
    "normal[\"indice_variacao\"].plot(kind=\"bar\", figsize=(16,8), title=\"Número de registros únicos\\ndividido pelo número total de registros \\npara cada campo da base de Ações de Capacitação\")\n"
   ]
  },
  {
   "cell_type": "code",
   "execution_count": null,
   "id": "beed7aba",
   "metadata": {},
   "outputs": [],
   "source": [
    "display(df.count().sample(10))\n",
    "display(df.nunique().sample(10))"
   ]
  },
  {
   "cell_type": "code",
   "execution_count": null,
   "id": "8a7b6f4a",
   "metadata": {},
   "outputs": [],
   "source": [
    "df_acoes_conteudos.nunique()"
   ]
  },
  {
   "cell_type": "code",
   "execution_count": null,
   "id": "7d09df4c",
   "metadata": {},
   "outputs": [],
   "source": [
    "dicionario = {\n",
    "    \"id_acao_x\":\"id_acao_base_acoes\",\n",
    "    \"id_acao_y\":\"id_acao_base_conteudo_programatico\",\n",
    "    \"id_trimestre_x\":\"id_trimestre_base_acoes\",\n",
    "    \"id_trimestre_y\":\"id_trimestre_base_conteudo_programatico\",\n",
    "    \"titulo_acao_x\":\"titulo_acao_base_acoes\",\n",
    "    \"titulo_acao_y\":\"titulo_acao_base_conteudo_programatico\"\n",
    "}\n",
    "df_acoes_conteudos.rename(columns=dicionario, inplace=True)"
   ]
  },
  {
   "cell_type": "code",
   "execution_count": null,
   "id": "d7378c5f",
   "metadata": {},
   "outputs": [],
   "source": [
    "df_acoes_conteudos.rename(columns=dicionario, inplace=True)"
   ]
  },
  {
   "cell_type": "code",
   "execution_count": null,
   "id": "5d7cb0ff",
   "metadata": {},
   "outputs": [],
   "source": [
    "df_acoes_conteudos.info()"
   ]
  },
  {
   "cell_type": "code",
   "execution_count": null,
   "id": "3a0c3d06",
   "metadata": {},
   "outputs": [],
   "source": [
    "pasta_destino = f'z:/bases_capacita/projeto_capacita/tcc_bonafe/'\n",
    "nome_arquivo = f'{pasta_destino}/{prefixoData(datetime.now())}-acoes_capacitacao_com_conteudo_programatico.csv'"
   ]
  },
  {
   "cell_type": "code",
   "execution_count": null,
   "id": "2d3f6859",
   "metadata": {},
   "outputs": [],
   "source": [
    "df_acoes_conteudos.to_csv (nome_arquivo, index=False)"
   ]
  }
 ],
 "metadata": {
  "kernelspec": {
   "display_name": "Python 3 (ipykernel)",
   "language": "python",
   "name": "python3"
  },
  "language_info": {
   "codemirror_mode": {
    "name": "ipython",
    "version": 3
   },
   "file_extension": ".py",
   "mimetype": "text/x-python",
   "name": "python",
   "nbconvert_exporter": "python",
   "pygments_lexer": "ipython3",
   "version": "3.8.13"
  }
 },
 "nbformat": 4,
 "nbformat_minor": 5
}
