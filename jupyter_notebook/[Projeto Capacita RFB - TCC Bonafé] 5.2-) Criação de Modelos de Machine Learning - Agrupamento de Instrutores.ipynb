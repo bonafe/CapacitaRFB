{
 "cells": [
  {
   "cell_type": "code",
   "execution_count": null,
   "id": "6ffce0c7",
   "metadata": {},
   "outputs": [],
   "source": [
    "import os\n",
    "from os import listdir\n",
    "from os.path import isfile, join\n",
    "from datetime import datetime\n",
    "import re\n",
    "import json\n",
    "import pickle"
   ]
  },
  {
   "cell_type": "code",
   "execution_count": null,
   "id": "4588bbdc",
   "metadata": {},
   "outputs": [],
   "source": [
    "from IPython.display import display, Markdown"
   ]
  },
  {
   "cell_type": "code",
   "execution_count": null,
   "id": "00ed7167",
   "metadata": {},
   "outputs": [],
   "source": [
    "import numpy as np\n",
    "import pandas as pd\n",
    "import matplotlib.pyplot as plt"
   ]
  },
  {
   "cell_type": "code",
   "execution_count": null,
   "id": "e2161e6c",
   "metadata": {},
   "outputs": [],
   "source": [
    "from sklearn.cluster import KMeans\n",
    "from kneed import KneeLocator"
   ]
  },
  {
   "cell_type": "code",
   "execution_count": null,
   "id": "9b13bc3c",
   "metadata": {},
   "outputs": [],
   "source": [
    "import warnings\n",
    "warnings.filterwarnings('ignore')\n",
    "\n",
    "import logging\n",
    "logger = logging.getLogger()\n",
    "logger.setLevel(logging.CRITICAL)"
   ]
  },
  {
   "cell_type": "code",
   "execution_count": null,
   "id": "b4ef0888",
   "metadata": {},
   "outputs": [],
   "source": [
    "import httpimport\n",
    "\n",
    "with httpimport.remote_repo(\n",
    "    ['visualizador_dataframes', 'ferramentas_linguagem_natural'],\n",
    "    'https://bonafe.github.io/CienciaDadosPython/src/componentes/'):\n",
    "    \n",
    "    from ferramentas_linguagem_natural import FerramentasLinguagemNatural\n",
    "    \n",
    "    from visualizador_dataframes import VisualizadorDataFrames    "
   ]
  },
  {
   "cell_type": "code",
   "execution_count": null,
   "id": "29a3e4b2",
   "metadata": {},
   "outputs": [],
   "source": [
    "def prefixoData(data):\n",
    "    return data.strftime(\"%Y_%m_%d\")"
   ]
  },
  {
   "cell_type": "code",
   "execution_count": null,
   "id": "0e6e6cca",
   "metadata": {},
   "outputs": [],
   "source": [
    "df_instrutores_clusterizado = pd.read_csv(\"z:/bases_capacita/projeto_capacita/tcc_bonafe/2022_06_30-instrutores_clusterizacao_variaveis_textos.csv\", index_col=None, header=0)\n",
    "df_instrutores_clusterizado.name = \"instrutores\""
   ]
  },
  {
   "cell_type": "code",
   "execution_count": null,
   "id": "cbd49295",
   "metadata": {},
   "outputs": [],
   "source": [
    "df_instrutores_clusterizado.sample(5)"
   ]
  },
  {
   "cell_type": "markdown",
   "id": "e68e7ba6",
   "metadata": {},
   "source": [
    "# Padronização dos nomes dos Clusters"
   ]
  },
  {
   "cell_type": "code",
   "execution_count": null,
   "id": "a97385f0",
   "metadata": {},
   "outputs": [],
   "source": [
    "de_para_conteudo_programatico = {\n",
    "    0: \"miscelanea\",\n",
    "    1: \"auditoria_interna\",\n",
    "    7: \"contagil\",\n",
    "    4: \"relacionamento_sociedade\",\n",
    "    5: \"vigilancia_repressao\",\n",
    "    3: \"aduana\",\n",
    "    12: \"planejamento\",\n",
    "    11: \"credito_tributario\",\n",
    "    10: \"projeto_farol\",\n",
    "    6: \"tributos_declaracoes\",\n",
    "    8: \"cadastros\",\n",
    "    2: \"obras\",\n",
    "    9: \"plano_gestao\"\n",
    "}\n",
    "\n",
    "de_para_titulo_acao = {\n",
    "    12: \"vigilancia_repressao\",\n",
    "    0: \"relacionamento_sociedade\",\n",
    "    9: \"atendimento\",\n",
    "    6: \"aduana\",\n",
    "    7: \"tributos_declaracoes\",\n",
    "    4: \"contagil\",\n",
    "    13: \"gestao\",\n",
    "    11: \"credito_tributario\",\n",
    "    5: \"projeto_farol\",\n",
    "    2: \"contagil\",\n",
    "    10: \"combate_fraudes\",\n",
    "    3: \"pis_cofins\",\n",
    "    8: \"imposto_renda\",\n",
    "    1: \"cadastros\"\n",
    "}\n",
    "\n",
    "de_para_nome_curso = {\n",
    "    14: \"vigilancia_repressao\",\n",
    "    2: \"atendimento\",\n",
    "    0: \"obras\",\n",
    "    5: \"relacionamento_sociedade\",\n",
    "    3: \"aduana\",\n",
    "    9: \"gestao\",\n",
    "    11: \"contagil\",\n",
    "    8: \"credito_tributario\",\n",
    "    1: \"atendimento\",\n",
    "    13: \"tributos_declaracoes\",\n",
    "    6: \"contagil\",\n",
    "    12: \"projeto_farol\",\n",
    "    7: \"administracao_tributaria\",\n",
    "    4: \"contagil\",\n",
    "    15: \"tributos_declaracoes\",\n",
    "    10: \"pis_cofins\"\n",
    "}\n",
    "\n",
    "de_para_objetivo_projeto = {\n",
    "    10: \"direito_creditorio\",\n",
    "    0: \"atendimento\",\n",
    "    11: \"unidades_rfb\",\n",
    "    6: \"gestao\",\n",
    "    1: \"aduana\",\n",
    "    3: \"credito_tributario\",\n",
    "    5: \"gestao\",\n",
    "    9: \"aduana\",\n",
    "    7: \"contagil\",\n",
    "    4: \"tributos_declaracoes\",\n",
    "    2: \"projeto_farol\",\n",
    "    12: \"vigilancia_repressao\",\n",
    "    8: \"gestao\"\n",
    "}"
   ]
  },
  {
   "cell_type": "code",
   "execution_count": null,
   "id": "0323257d",
   "metadata": {},
   "outputs": [],
   "source": [
    "df_instrutores_clusterizado[\"cluster_conteudo_programatico_padronizado\"] = df_instrutores_clusterizado[\"cluster_conteudo_programatico\"].apply (lambda valor: de_para_conteudo_programatico[valor])\n",
    "df_instrutores_clusterizado[\"cluster_titulo_acao_padronizado\"] = df_instrutores_clusterizado[\"cluster_titulo_acao\"].apply (lambda valor: de_para_titulo_acao[valor])\n",
    "df_instrutores_clusterizado[\"cluster_nome_curso_padronizado\"] = df_instrutores_clusterizado[\"cluster_nome_curso\"].apply (lambda valor: de_para_nome_curso[valor])\n",
    "df_instrutores_clusterizado[\"cluster_objetivo_projeto_padronizado\"] = df_instrutores_clusterizado[\"cluster_objetivo_projeto\"].apply (lambda valor: de_para_objetivo_projeto[valor])"
   ]
  },
  {
   "cell_type": "markdown",
   "id": "459a5129",
   "metadata": {},
   "source": [
    "# Clusterização dos Instrutores"
   ]
  },
  {
   "cell_type": "code",
   "execution_count": null,
   "id": "c0315da9",
   "metadata": {},
   "outputs": [],
   "source": [
    "df = df_instrutores_clusterizado.drop(columns = ['id_instrutoria', 'id_turma_execucao', 'id_acao', 'ano_conclusao',\n",
    "       'ano_evento', 'data_inicio', 'data_fim', 'carga_horaria',\n",
    "       'objetivo_projeto', 'tipo', 'tipo_competencia', 'titulo_competencia',\n",
    "       'titulo_acao', 'conteudo_programatico',\n",
    "       'nome_instrutor_anonimizado', 'nome_rcd_anonimizado',\n",
    "       'cluster_conteudo_programatico', 'cluster_titulo_acao', \n",
    "        'cluster_nome_curso', 'cluster_objetivo_projeto'])"
   ]
  },
  {
   "cell_type": "code",
   "execution_count": null,
   "id": "6d12fb92",
   "metadata": {},
   "outputs": [],
   "source": [
    "df = pd.get_dummies(df, prefix=\"cluster_conteudo_programatico_padronizado\", prefix_sep=\"_\", dummy_na=False, columns=[\"cluster_conteudo_programatico_padronizado\"])\n",
    "df = pd.get_dummies(df, prefix=\"cluster_titulo_acao_padronizado\", prefix_sep=\"_\", dummy_na=False, columns=[\"cluster_titulo_acao_padronizado\"])\n",
    "df = pd.get_dummies(df, prefix=\"cluster_nome_curso_padronizado\", prefix_sep=\"_\", dummy_na=False, columns=[\"cluster_nome_curso_padronizado\"])\n",
    "df = pd.get_dummies(df, prefix=\"cluster_objetivo_projeto_padronizado\", prefix_sep=\"_\", dummy_na=False, columns=[\"cluster_objetivo_projeto_padronizado\"])"
   ]
  },
  {
   "cell_type": "code",
   "execution_count": null,
   "id": "668a37c8",
   "metadata": {},
   "outputs": [],
   "source": [
    "df = df.groupby(\"matricula_siape_anonimizada\").sum()"
   ]
  },
  {
   "cell_type": "code",
   "execution_count": null,
   "id": "ff0a7853",
   "metadata": {},
   "outputs": [],
   "source": [
    "df.sample(10)"
   ]
  },
  {
   "cell_type": "code",
   "execution_count": null,
   "id": "1b2aaeae",
   "metadata": {},
   "outputs": [],
   "source": [
    "matriz = df.values"
   ]
  },
  {
   "cell_type": "code",
   "execution_count": null,
   "id": "5b36c9f5",
   "metadata": {},
   "outputs": [],
   "source": [
    "quantidade_maxima_clusters = 20\n",
    "\n",
    "sse = []\n",
    "\n",
    "for quantidade_clusters in range(1, quantidade_maxima_clusters):\n",
    "            \n",
    "    #display (f'Gerando cluster {quantidade_clusters} de {quantidade_maxima_clusters}')\n",
    "\n",
    "    kmeans = KMeans(n_clusters=quantidade_clusters, init='k-means++', max_iter=300, n_init=10, random_state=1)\n",
    "    kmeans.fit(matriz)\n",
    "    sse.append(kmeans.inertia_)\n",
    "\n",
    "kl = KneeLocator(range(1, quantidade_maxima_clusters), sse, curve=\"convex\", direction=\"decreasing\")\n",
    "\n",
    "numero_ideal_clusters_instrutores = kl.elbow\n",
    "\n",
    "display (f'Número ideal de clusteres: {numero_ideal_clusters_instrutores}')\n",
    "\n",
    "fig, ax = plt.subplots(figsize=(10, 4))\n",
    "fig.suptitle(f'Método do Cotovelo: Clusteres Instrutores', fontsize=20)\n",
    "plt.grid(b=True)\n",
    "plt.plot(range(1, quantidade_maxima_clusters), sse)\n",
    "plt.xticks(range(1, quantidade_maxima_clusters))\n",
    "plt.xlabel(\"Número de Clusters\")\n",
    "plt.ylabel(\"SSE\")\n",
    "plt.show()"
   ]
  },
  {
   "cell_type": "code",
   "execution_count": null,
   "id": "696537f7",
   "metadata": {},
   "outputs": [],
   "source": [
    "km = KMeans(n_clusters=5)\n",
    "km.fit(matriz)\n",
    "df_instrutores_agrupados = pd.DataFrame([df.index, km.labels_]).T\n",
    "df_instrutores_agrupados.rename(columns={0:\"matricula_siape_anonimizada\", 1:\"cluster_instrutor\"}, inplace=True)"
   ]
  },
  {
   "cell_type": "code",
   "execution_count": null,
   "id": "80f74ba3",
   "metadata": {},
   "outputs": [],
   "source": [
    "df_instrutores_agrupados.value_counts(\"cluster_instrutor\")"
   ]
  },
  {
   "cell_type": "code",
   "execution_count": null,
   "id": "c2bc07e3",
   "metadata": {},
   "outputs": [],
   "source": [
    "df_instrutores_clusterizado_agrupado = pd.merge (\n",
    "    df_instrutores_clusterizado,  \n",
    "    df_instrutores_agrupados,  \n",
    "    how=\"left\", \n",
    "    on=\"matricula_siape_anonimizada\")"
   ]
  },
  {
   "cell_type": "code",
   "execution_count": null,
   "id": "a9d214cd",
   "metadata": {},
   "outputs": [],
   "source": [
    "df_instrutores_clusterizado_agrupado.value_counts(\"cluster_instrutor\")"
   ]
  },
  {
   "cell_type": "code",
   "execution_count": null,
   "id": "7eb9ad65",
   "metadata": {},
   "outputs": [],
   "source": [
    "df_instrutores_clusterizado_agrupado.info()"
   ]
  },
  {
   "cell_type": "code",
   "execution_count": null,
   "id": "3ffcbd07",
   "metadata": {},
   "outputs": [],
   "source": [
    "pasta_destino = f'z:/bases_capacita/projeto_capacita/tcc_bonafe/'\n",
    "nome_arquivo = f'{pasta_destino}/{prefixoData(datetime.now())}-instrutores_clusterizado.csv'\n",
    "df_instrutores_clusterizado_agrupado.to_csv (nome_arquivo, index=False)"
   ]
  }
 ],
 "metadata": {
  "kernelspec": {
   "display_name": "Python 3 (ipykernel)",
   "language": "python",
   "name": "python3"
  },
  "language_info": {
   "codemirror_mode": {
    "name": "ipython",
    "version": 3
   },
   "file_extension": ".py",
   "mimetype": "text/x-python",
   "name": "python",
   "nbconvert_exporter": "python",
   "pygments_lexer": "ipython3",
   "version": "3.8.13"
  }
 },
 "nbformat": 4,
 "nbformat_minor": 5
}
