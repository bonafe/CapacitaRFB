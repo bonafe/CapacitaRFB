{
 "cells": [
  {
   "cell_type": "code",
   "execution_count": null,
   "id": "da9b7716",
   "metadata": {},
   "outputs": [],
   "source": [
    "import os\n",
    "from os import listdir\n",
    "from os.path import isfile, join\n",
    "\n",
    "import pandas as pd"
   ]
  },
  {
   "cell_type": "code",
   "execution_count": null,
   "id": "b7e0f692",
   "metadata": {},
   "outputs": [],
   "source": [
    "import httpimport\n",
    "\n",
    "with httpimport.remote_repo(['visualizador_dataframes'],'https://bonafe.github.io/CienciaDadosPython/src/componentes/'):\n",
    "    from visualizador_dataframes import VisualizadorDataFrames"
   ]
  },
  {
   "cell_type": "code",
   "execution_count": null,
   "id": "80ed65c6",
   "metadata": {},
   "outputs": [],
   "source": [
    "# Entrega 2022 do Sistema SA3\n",
    "df_acoes = pd.read_csv( \"z:/bases_capacita/projeto_capacita/sa3/entrega_2022/2022_06_01-acoes_capacitacao.csv\", index_col=None, header=0)\n",
    "df_acoes.name = \"acoes\"\n",
    "\n",
    "df_conteudo_programatico_acoes_capacitacao = pd.read_csv(\"z:/bases_capacita/projeto_capacita/sa3/entrega_2022/2022_06_01-conteudo_programatico_acoes_capacitacao.csv\", index_col=None, header=0)\n",
    "df_conteudo_programatico_acoes_capacitacao.name = \"conteudo_programatico_acoes_capacitacao\"\n",
    "\n",
    "df_instrutores = pd.read_csv(\"z:/bases_capacita/projeto_capacita/sa3/entrega_2022/2022_06_02-instrutores.csv\", index_col=None, header=0)\n",
    "df_instrutores.name = \"instrutores\""
   ]
  },
  {
   "cell_type": "code",
   "execution_count": null,
   "id": "b6924dec",
   "metadata": {},
   "outputs": [],
   "source": [
    "dfs_originais = [\n",
    "    df_acoes,     \n",
    "    df_instrutores,     \n",
    "    df_conteudo_programatico_acoes_capacitacao,     \n",
    "]\n",
    "\n",
    "dfs = []\n",
    "\n",
    "for df_original in dfs_originais:\n",
    "    \n",
    "    df = None\n",
    "    \n",
    "    try:\n",
    "        df = df_original.copy()\n",
    "    except:\n",
    "        df = df_original.copy()\n",
    "        \n",
    "    if hasattr(df_original,\"name\"):\n",
    "        df.name = df_original.name        \n",
    "    \n",
    "    dfs.append(df)"
   ]
  },
  {
   "cell_type": "code",
   "execution_count": null,
   "id": "64daf194",
   "metadata": {},
   "outputs": [],
   "source": [
    "dicionario_datasets = {                \n",
    "    \"acoes\":{\n",
    "        \"titulo\":\"Ações de Capacitação\",\n",
    "        \"sistema\":\"SA3\"                        \n",
    "    },\n",
    "\n",
    "    \"instrutores\":{\n",
    "        \"titulo\":\"Intrutores\",\n",
    "        \"sistema\":\"SA3\"\n",
    "    },  \n",
    "\n",
    "    \"conteudo_programatico_acoes_capacitacao\":{\n",
    "        \"titulo\":\"Conteúdo Programático\",\n",
    "        \"sistema\":\"SA3\"\n",
    "    }\n",
    "}"
   ]
  },
  {
   "cell_type": "code",
   "execution_count": null,
   "id": "25de6ecf",
   "metadata": {},
   "outputs": [],
   "source": [
    "visualizador = VisualizadorDataFrames(dfs)"
   ]
  },
  {
   "cell_type": "code",
   "execution_count": null,
   "id": "6068c882",
   "metadata": {},
   "outputs": [],
   "source": [
    "metadados_capacita = visualizador.gerarMetadados(dicionario_datasets)"
   ]
  },
  {
   "cell_type": "code",
   "execution_count": null,
   "id": "6f1deecd",
   "metadata": {},
   "outputs": [],
   "source": [
    "visualizador.exibirGrafoBases(metadados_capacita, mostrarDetalhes=False)"
   ]
  },
  {
   "cell_type": "code",
   "execution_count": null,
   "id": "e5c618fb",
   "metadata": {},
   "outputs": [],
   "source": [
    "import json\n",
    "from datetime import datetime\n",
    "\n",
    "def prefixoData(data):\n",
    "    return data.strftime(\"%Y_%m_%d\")\n",
    "\n",
    "json_string_metadados_bases = json.dumps(metadados_capacita)\n",
    "\n",
    "# Using a JSON string\n",
    "with open(f'./dados/{prefixoData(datetime.now())}_metadados_bases_TCC_BigData_PUC_Minas.json', 'w') as outfile:\n",
    "    outfile.write(json_string_metadados_bases)"
   ]
  }
 ],
 "metadata": {
  "kernelspec": {
   "display_name": "Python 3 (ipykernel)",
   "language": "python",
   "name": "python3"
  },
  "language_info": {
   "codemirror_mode": {
    "name": "ipython",
    "version": 3
   },
   "file_extension": ".py",
   "mimetype": "text/x-python",
   "name": "python",
   "nbconvert_exporter": "python",
   "pygments_lexer": "ipython3",
   "version": "3.8.13"
  }
 },
 "nbformat": 4,
 "nbformat_minor": 5
}
