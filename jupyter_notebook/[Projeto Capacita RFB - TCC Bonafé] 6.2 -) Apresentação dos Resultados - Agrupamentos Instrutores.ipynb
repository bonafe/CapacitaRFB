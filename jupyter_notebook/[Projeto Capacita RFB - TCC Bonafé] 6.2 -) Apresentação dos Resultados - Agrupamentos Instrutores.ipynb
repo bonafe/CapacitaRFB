{
 "cells": [
  {
   "cell_type": "code",
   "execution_count": null,
   "id": "6ffce0c7",
   "metadata": {},
   "outputs": [],
   "source": [
    "import os\n",
    "from os import listdir\n",
    "from os.path import isfile, join\n",
    "from datetime import datetime\n",
    "import re\n",
    "import json\n",
    "import pickle"
   ]
  },
  {
   "cell_type": "code",
   "execution_count": null,
   "id": "4588bbdc",
   "metadata": {},
   "outputs": [],
   "source": [
    "from IPython.display import display, Markdown"
   ]
  },
  {
   "cell_type": "code",
   "execution_count": null,
   "id": "00ed7167",
   "metadata": {},
   "outputs": [],
   "source": [
    "import numpy as np\n",
    "import pandas as pd\n",
    "import matplotlib.pyplot as plt"
   ]
  },
  {
   "cell_type": "code",
   "execution_count": null,
   "id": "e2161e6c",
   "metadata": {},
   "outputs": [],
   "source": [
    "from sklearn.cluster import KMeans\n",
    "from kneed import KneeLocator"
   ]
  },
  {
   "cell_type": "code",
   "execution_count": null,
   "id": "9b13bc3c",
   "metadata": {},
   "outputs": [],
   "source": [
    "import warnings\n",
    "warnings.filterwarnings('ignore')\n",
    "\n",
    "import logging\n",
    "logger = logging.getLogger()\n",
    "logger.setLevel(logging.CRITICAL)"
   ]
  },
  {
   "cell_type": "code",
   "execution_count": null,
   "id": "b4ef0888",
   "metadata": {},
   "outputs": [],
   "source": [
    "import httpimport\n",
    "\n",
    "with httpimport.remote_repo(\n",
    "    ['visualizador_dataframes', 'ferramentas_linguagem_natural'],\n",
    "    'https://bonafe.github.io/CienciaDadosPython/src/componentes/'):\n",
    "    \n",
    "    from ferramentas_linguagem_natural import FerramentasLinguagemNatural\n",
    "    \n",
    "    from visualizador_dataframes import VisualizadorDataFrames    "
   ]
  },
  {
   "cell_type": "code",
   "execution_count": null,
   "id": "29a3e4b2",
   "metadata": {},
   "outputs": [],
   "source": [
    "def prefixoData(data):\n",
    "    return data.strftime(\"%Y_%m_%d\")"
   ]
  },
  {
   "cell_type": "code",
   "execution_count": null,
   "id": "65a7fa78",
   "metadata": {},
   "outputs": [],
   "source": [
    "stopwords_conteudo_capacita = [\n",
    "    \"curso\",\n",
    "    \"apresentação\", \n",
    "    \"turma\", \n",
    "    \"capacitação\", \n",
    "    \"aula\", \n",
    "    \"utilização\", \n",
    "    \"prático\", \n",
    "    \"estudo\", \n",
    "    \"treinamento\", \n",
    "    \"encontro\", \n",
    "    \"seminário\",\n",
    "    \"especialização\",\n",
    "    \"repasse\",\n",
    "    \"funcionalidade\",\n",
    "    \"sistema\",\n",
    "    \"atuam\",\n",
    "    \"atuar\",\n",
    "    \"servidores\",\n",
    "    \"utilização\",\n",
    "    \"análise\",\n",
    "    \"sobre\",\n",
    "    \"objetivo\",\n",
    "    \"área\",\n",
    "    \"equipe\",\n",
    "    \"visando\",\n",
    "    \"habilitar\",\n",
    "    \"conhecimento\",\n",
    "    \"processo\",\n",
    "    \"trabalho\",\n",
    "    \"receita\",\n",
    "    \"federal\",\n",
    "    \"participante\",\n",
    "    \"apresentar\",\n",
    "    \"ações\",\n",
    "    \"ação\",\n",
    "    \"envolvendo\",\n",
    "    \"desde\",\n",
    "    \"rfb\",\n",
    "    \"nbsp\",\n",
    "    \"conhecer\",\n",
    "    \"capacitar\",\n",
    "    \"atualizar\",\n",
    "    \"reciclar\"\n",
    "]"
   ]
  },
  {
   "cell_type": "code",
   "execution_count": null,
   "id": "0e6e6cca",
   "metadata": {},
   "outputs": [],
   "source": [
    "df_instrutores_clusterizado = pd.read_csv(\"z:/bases_capacita/projeto_capacita/tcc_bonafe/2022_06_30-instrutores_clusterizado.csv\", index_col=None, header=0)\n",
    "df_instrutores_clusterizado.name = \"instrutores\""
   ]
  },
  {
   "cell_type": "code",
   "execution_count": null,
   "id": "9d351175",
   "metadata": {},
   "outputs": [],
   "source": [
    "df_instrutores_clusterizado.info()"
   ]
  },
  {
   "cell_type": "markdown",
   "id": "b55c6d28",
   "metadata": {},
   "source": [
    "# Correlação entre os Clusters Originais"
   ]
  },
  {
   "cell_type": "code",
   "execution_count": null,
   "id": "9701c666",
   "metadata": {},
   "outputs": [],
   "source": [
    "df = df_instrutores_clusterizado.drop(columns = ['id_instrutoria', 'id_turma_execucao', 'id_acao', 'ano_conclusao',\n",
    "       'ano_evento', 'data_inicio', 'data_fim', 'carga_horaria',\n",
    "       'objetivo_projeto', 'tipo', 'tipo_competencia', 'titulo_competencia',\n",
    "       'titulo_acao', 'conteudo_programatico',\n",
    "       'nome_instrutor_anonimizado', 'nome_rcd_anonimizado', 'cluster_instrutor'])"
   ]
  },
  {
   "cell_type": "code",
   "execution_count": null,
   "id": "0506cada",
   "metadata": {},
   "outputs": [],
   "source": [
    "df = pd.get_dummies(df, prefix=\"cluster_conteudo_programatico\", prefix_sep=\"_\", dummy_na=False, columns=[\"cluster_conteudo_programatico\"])\n",
    "df = pd.get_dummies(df, prefix=\"cluster_titulo_acao\", prefix_sep=\"_\", dummy_na=False, columns=[\"cluster_titulo_acao\"])\n",
    "df = pd.get_dummies(df, prefix=\"cluster_objetivo_projeto\", prefix_sep=\"_\", dummy_na=False, columns=[\"cluster_objetivo_projeto\"])\n",
    "df = pd.get_dummies(df, prefix=\"cluster_nome_curso\", prefix_sep=\"_\", dummy_na=False, columns=[\"cluster_nome_curso\"])"
   ]
  },
  {
   "cell_type": "code",
   "execution_count": null,
   "id": "681c992b",
   "metadata": {},
   "outputs": [],
   "source": [
    "df = df.groupby(\"matricula_siape_anonimizada\").sum()"
   ]
  },
  {
   "cell_type": "code",
   "execution_count": null,
   "id": "9e9c1123",
   "metadata": {},
   "outputs": [],
   "source": [
    "f = plt.figure(figsize=(19, 15))\n",
    "plt.matshow(df.corr(), fignum=f.number)\n",
    "plt.xticks(range(df.select_dtypes(['number']).shape[1]), df.select_dtypes(['number']).columns, fontsize=14, rotation=90)\n",
    "plt.yticks(range(df.select_dtypes(['number']).shape[1]), df.select_dtypes(['number']).columns, fontsize=14)\n",
    "cb = plt.colorbar()\n",
    "cb.ax.tick_params(labelsize=14)\n",
    "plt.title('Correlation Matrix', fontsize=16);"
   ]
  },
  {
   "cell_type": "markdown",
   "id": "938c36fc",
   "metadata": {},
   "source": [
    "# Correlação entre os Clusters Padronizados"
   ]
  },
  {
   "cell_type": "code",
   "execution_count": null,
   "id": "e39623be",
   "metadata": {},
   "outputs": [],
   "source": [
    "df = df_instrutores_clusterizado.drop(columns = ['id_instrutoria', 'id_turma_execucao', 'id_acao', 'ano_conclusao',\n",
    "       'ano_evento', 'data_inicio', 'data_fim', 'carga_horaria',\n",
    "       'objetivo_projeto', 'tipo', 'tipo_competencia', 'titulo_competencia',\n",
    "       'titulo_acao', 'conteudo_programatico',\n",
    "       'nome_instrutor_anonimizado', 'nome_rcd_anonimizado',\n",
    "       'cluster_conteudo_programatico', 'cluster_titulo_acao', \n",
    "        'cluster_nome_curso', 'cluster_objetivo_projeto', 'cluster_instrutor'])"
   ]
  },
  {
   "cell_type": "code",
   "execution_count": null,
   "id": "9451e201",
   "metadata": {},
   "outputs": [],
   "source": [
    "df = pd.get_dummies(df, prefix=\"cluster_conteudo_programatico_padronizado\", prefix_sep=\"_\", dummy_na=False, columns=[\"cluster_conteudo_programatico_padronizado\"])\n",
    "df = pd.get_dummies(df, prefix=\"cluster_titulo_acao_padronizado\", prefix_sep=\"_\", dummy_na=False, columns=[\"cluster_titulo_acao_padronizado\"])\n",
    "df = pd.get_dummies(df, prefix=\"cluster_nome_curso_padronizado\", prefix_sep=\"_\", dummy_na=False, columns=[\"cluster_nome_curso_padronizado\"])\n",
    "df = pd.get_dummies(df, prefix=\"cluster_objetivo_projeto_padronizado\", prefix_sep=\"_\", dummy_na=False, columns=[\"cluster_objetivo_projeto_padronizado\"])"
   ]
  },
  {
   "cell_type": "code",
   "execution_count": null,
   "id": "b598374e",
   "metadata": {},
   "outputs": [],
   "source": [
    "df = df.groupby(\"matricula_siape_anonimizada\").sum()"
   ]
  },
  {
   "cell_type": "code",
   "execution_count": null,
   "id": "255cc16c",
   "metadata": {},
   "outputs": [],
   "source": [
    "f = plt.figure(figsize=(19, 15))\n",
    "plt.matshow(df.corr(), fignum=f.number)\n",
    "plt.xticks(range(df.select_dtypes(['number']).shape[1]), df.select_dtypes(['number']).columns, fontsize=14, rotation=90)\n",
    "plt.yticks(range(df.select_dtypes(['number']).shape[1]), df.select_dtypes(['number']).columns, fontsize=14)\n",
    "cb = plt.colorbar()\n",
    "cb.ax.tick_params(labelsize=14)\n",
    "plt.title('Correlation Matrix', fontsize=16);"
   ]
  },
  {
   "cell_type": "markdown",
   "id": "950dbe34",
   "metadata": {},
   "source": [
    "# Exibir as características de cada agrupamento de instrutores"
   ]
  },
  {
   "cell_type": "code",
   "execution_count": null,
   "id": "2d3eaea7",
   "metadata": {},
   "outputs": [],
   "source": [
    "def exibirCaracteristicasClusterInstrutor(cluster_instrutor):\n",
    "    \n",
    "    df_cluster_instrutor = df_instrutores_clusterizado[df_instrutores_clusterizado['cluster_instrutor'] == cluster_instrutor]\n",
    "    \n",
    "    quantidade_registros = df_cluster_instrutor[\"id_instrutoria\"].count()\n",
    "    \n",
    "    df_conteudo_programatico = df_cluster_instrutor.value_counts(\"cluster_conteudo_programatico_padronizado\") \\\n",
    "        .rename_axis('categoria').to_frame(\"conteudo_programatico\")\n",
    "    \n",
    "    df_titulo_acao = df_cluster_instrutor.value_counts(\"cluster_titulo_acao_padronizado\") \\\n",
    "        .rename_axis('categoria').to_frame('titulo_acao')\n",
    "    \n",
    "    df_nome_curso = df_cluster_instrutor.value_counts(\"cluster_nome_curso_padronizado\") \\\n",
    "        .rename_axis('categoria').to_frame('nome_curso')\n",
    "    \n",
    "    df_objetivo_projeto = df_cluster_instrutor.value_counts(\"cluster_objetivo_projeto_padronizado\") \\\n",
    "        .rename_axis('categoria').to_frame('objetivo_projeto')\n",
    "    \n",
    "    df_total = pd.concat([df_conteudo_programatico, df_titulo_acao, df_nome_curso, df_objetivo_projeto], axis=1)\n",
    "    \n",
    "    df_total.sort_index(inplace=True)\n",
    "    \n",
    "    ax = df_total.plot.barh(figsize=(6,8), title=f'Cluster {cluster_instrutor} - {quantidade_registros} registros')\n",
    "    \n",
    "    ax.get_figure().patch.set_facecolor('white')\n",
    "    \n",
    "\n",
    "    display(df_cluster_instrutor.value_counts(\"matricula_siape_anonimizada\").to_frame(\"instrutorias_por_instrutor\").describe())\n",
    "    "
   ]
  },
  {
   "cell_type": "code",
   "execution_count": null,
   "id": "ac00534c",
   "metadata": {},
   "outputs": [],
   "source": [
    "exibirCaracteristicasClusterInstrutor(0)"
   ]
  },
  {
   "cell_type": "code",
   "execution_count": null,
   "id": "5d6144e6",
   "metadata": {},
   "outputs": [],
   "source": [
    "exibirCaracteristicasClusterInstrutor(1)"
   ]
  },
  {
   "cell_type": "code",
   "execution_count": null,
   "id": "de2fa63b",
   "metadata": {},
   "outputs": [],
   "source": [
    "exibirCaracteristicasClusterInstrutor(2)"
   ]
  },
  {
   "cell_type": "code",
   "execution_count": null,
   "id": "935c525c",
   "metadata": {},
   "outputs": [],
   "source": [
    "exibirCaracteristicasClusterInstrutor(3)"
   ]
  },
  {
   "cell_type": "code",
   "execution_count": null,
   "id": "5f85fb29",
   "metadata": {},
   "outputs": [],
   "source": [
    "exibirCaracteristicasClusterInstrutor(4)"
   ]
  }
 ],
 "metadata": {
  "kernelspec": {
   "display_name": "Python 3 (ipykernel)",
   "language": "python",
   "name": "python3"
  },
  "language_info": {
   "codemirror_mode": {
    "name": "ipython",
    "version": 3
   },
   "file_extension": ".py",
   "mimetype": "text/x-python",
   "name": "python",
   "nbconvert_exporter": "python",
   "pygments_lexer": "ipython3",
   "version": "3.8.13"
  }
 },
 "nbformat": 4,
 "nbformat_minor": 5
}
